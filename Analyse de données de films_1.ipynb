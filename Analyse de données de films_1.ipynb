{
 "cells": [
  {
   "cell_type": "markdown",
   "metadata": {},
   "source": [
    "# Analyse de données de films"
   ]
  },
  {
   "cell_type": "markdown",
   "metadata": {},
   "source": [
    "Nous proposons de travailler sur des données décrivant des films. Les possibilités sont larges et vous êtes évalués sur vos propositions et votre méthodologie plus que sur vos résultats.\n",
    "\n",
    "Les données de départ sont disponibles sur:\n",
    "https://grouplens.org/datasets/movielens/\n",
    "au format CSV. \n",
    "\n",
    "Nous nous intéresserons en particulier au jeu de données: **MovieLens 20M Dataset**. Dans ce jeu de données, vous disposez entre autre de:\n",
    "* Idendifiant du film dans IMdb et TMdb (ça sera important ensuite)\n",
    "* Catégorie(s) du film\n",
    "* Titre du film\n",
    "* Notes données par les internautes aux films\n",
    "\n",
    "Afin de rendre le projet plus intéressant, nous ajoutons des données sur les acteurs et producteurs associés aux films (récupéré sur TMdb). Ces données sont disponibles sur les liens suivants:\n",
    "\n",
    "http://webia.lip6.fr/~guigue/film_v2.pkl <br>\n",
    "http://webia.lip6.fr/~guigue/act_v2.pkl <br>\n",
    "http://webia.lip6.fr/~guigue/crew_v2.pkl\n",
    "\n",
    "Ces fichiers contiennent respectivement : une nouvelle description des films (dont l'identifiant TMdb et la note moyenne donnée par les internautes, la date de sortie,...), une description des acteurs de chaque film et une description des équipes (scénariste, producteur, metteur en scène) pour chaque film.\n",
    "\n",
    "Ces données sont des listes de taille 26908, chaque élément de la liste correspondant à un dictionnaire dont vous étudierez les clés pour récupérer les informations utiles.\n",
    "\n",
    "**ATTENTION** Les contraintes de récupération d'informations en ligne font que la base MovieLens compte 27278 films mais les fichiers ci-dessus n'en comptent que 26908. Le plus simple est probablement d'éliminer les films de MovieLens qui ne sont pas dans cette seconde base."
   ]
  },
  {
   "cell_type": "markdown",
   "metadata": {},
   "source": [
    "## Consignes générales pour l'analyse des données\n",
    "\n",
    "Vous devez proposer plusieurs analyses des données, qui devront à minima utiliser les\n",
    " techniques suivantes:\n",
    " \n",
    "1. Mettre en forme les données pour identifier les acteurs et les catégories, les indexer\n",
    "1. Traiter au moins un problème de régression supervisé (par exemple la prédiction de la note moyenne donnée à un film par les internautes).\n",
    "1. Traiter au moins un problème de classification supervisé (par exemple la prédiction de la catégorie d'un film)\n",
    "1. Utiliser les données catégorielles (catégories, acteurs,...) de manière discrète ET de manière coninue (*dummy coding*) dans des approches différentes\n",
    "1. Proposer au moins une approche de catégorisation non supervisée (pour regrouper les acteurs par exemple)\n",
    "1. Mener une campagne d'expérience permettant de comparer les performances sur un problème en fonction des valeurs d'un paramètre (et donc, in fine, trouver la meilleure valeur du paramètre)\n",
    "1. Proposer quelques illustrations"
   ]
  },
  {
   "cell_type": "markdown",
   "metadata": {},
   "source": [
    "# Régression supervisée\n",
    "\n",
    "## Note moyenne des films:\n",
    "#### Features:\n",
    "1) Budget\n",
    "\n",
    "2) \n",
    "\n",
    "# Classification supervisée\n",
    "\n",
    "## Catégorie d'un film:\n",
    "#### Features:\n",
    "1)\n",
    "\n",
    "# Clustering non supervisé\n",
    "\n",
    "## Affinité des acteurs:\n",
    "#### Features:\n",
    "1) Catégories où ont joué les acteurs associés\n",
    "\n",
    "2) ..."
   ]
  },
  {
   "cell_type": "code",
   "execution_count": 1,
   "metadata": {
    "ExecuteTime": {
     "end_time": "2019-04-07T08:19:29.115938Z",
     "start_time": "2019-04-07T08:19:19.020263Z"
    }
   },
   "outputs": [],
   "source": [
    "import numpy as np\n",
    "import pandas as pd\n",
    "import matplotlib.pyplot as plt\n",
    "%matplotlib inline\n",
    "import pickle as pkl\n"
   ]
  },
  {
   "cell_type": "markdown",
   "metadata": {},
   "source": [
    "## Chargement des données (base MovieLens + enrichissements)"
   ]
  },
  {
   "cell_type": "code",
   "execution_count": 2,
   "metadata": {
    "ExecuteTime": {
     "end_time": "2019-04-07T08:19:59.756956Z",
     "start_time": "2019-04-07T08:19:37.291129Z"
    }
   },
   "outputs": [],
   "source": [
    "fname = \"movielens/act_v2.pkl\"\n",
    "acteurs = pkl.load(open(fname, \"rb\"))\n",
    "fname = \"movielens/film_v2.pkl\" \n",
    "movie_bis = pkl.load(open(fname, \"rb\"))\n",
    "fname = \"movielens/crew_v2.pkl\" \n",
    "crew = pkl.load(open(fname, \"rb\"))"
   ]
  },
  {
   "cell_type": "code",
   "execution_count": 3,
   "metadata": {
    "ExecuteTime": {
     "end_time": "2019-04-07T08:23:41.390635Z",
     "start_time": "2019-04-07T08:23:21.833136Z"
    }
   },
   "outputs": [
    {
     "name": "stderr",
     "output_type": "stream",
     "text": [
      "/home/angelo/anaconda3/lib/python3.7/site-packages/IPython/core/interactiveshell.py:3049: DtypeWarning: Columns (10) have mixed types. Specify dtype option on import or set low_memory=False.\n",
      "  interactivity=interactivity, compiler=compiler, result=result)\n"
     ]
    }
   ],
   "source": [
    "movies = pd.DataFrame(data=pd.read_csv(\"movielens/movies.csv\", sep=\",\"))\n",
    "movies_meta = pd.DataFrame(data=pd.read_csv(\"movielens/movies_metadata.csv\", sep=\",\"))\n",
    "scores = pd.DataFrame(data=pd.read_csv(\"movielens/genome-scores.csv\", sep=\",\"))\n",
    "ratings = pd.DataFrame(data=pd.read_csv(\"movielens/ratings.csv\", sep=\",\"))\n",
    "links = pd.DataFrame(data=pd.read_csv(\"movielens/links.csv\", sep=\",\"))\n",
    "tags = pd.DataFrame(data=pd.read_csv(\"movielens/tags.csv\", sep=\",\"))\n",
    "genome_tags =pd.DataFrame(data=pd.read_csv(\"movielens/genome-tags.csv\", sep=\",\"))"
   ]
  },
  {
   "cell_type": "code",
   "execution_count": 4,
   "metadata": {
    "ExecuteTime": {
     "end_time": "2019-04-07T08:23:51.658873Z",
     "start_time": "2019-04-07T08:23:51.616023Z"
    }
   },
   "outputs": [],
   "source": [
    "movies_meta.drop(['homepage', 'poster_path', 'status', 'tagline', 'adult'], inplace=True, axis=1)"
   ]
  },
  {
   "cell_type": "code",
   "execution_count": 6,
   "metadata": {
    "ExecuteTime": {
     "end_time": "2019-04-07T08:24:09.037511Z",
     "start_time": "2019-04-07T08:24:09.014413Z"
    }
   },
   "outputs": [],
   "source": [
    "import itertools\n",
    "merged_actors = list(itertools.chain(*acteurs))\n",
    "merged_crew =  list(itertools.chain(*crew))"
   ]
  },
  {
   "cell_type": "code",
   "execution_count": 7,
   "metadata": {
    "ExecuteTime": {
     "end_time": "2019-04-07T08:24:13.699380Z",
     "start_time": "2019-04-07T08:24:12.166742Z"
    }
   },
   "outputs": [],
   "source": [
    "df_actors = pd.DataFrame(merged_actors)\n",
    "df_crew = pd.DataFrame(merged_crew)\n",
    "df_movies = pd.DataFrame(movie_bis)"
   ]
  },
  {
   "cell_type": "code",
   "execution_count": 8,
   "metadata": {
    "ExecuteTime": {
     "end_time": "2019-04-07T08:24:18.258150Z",
     "start_time": "2019-04-07T08:24:18.168376Z"
    }
   },
   "outputs": [],
   "source": [
    "df_actors.drop(['profile_path'], inplace=True, axis=1)\n",
    "df_crew.drop(['profile_path'], inplace=True, axis=1)\n",
    "df_movies.drop(['backdrop_path'], inplace=True, axis=1)\n",
    "df_movies.drop(['poster_path'], inplace=True, axis=1)"
   ]
  },
  {
   "cell_type": "code",
   "execution_count": 9,
   "metadata": {
    "ExecuteTime": {
     "end_time": "2019-04-07T08:24:21.654173Z",
     "start_time": "2019-04-07T08:24:21.421362Z"
    }
   },
   "outputs": [
    {
     "name": "stdout",
     "output_type": "stream",
     "text": [
      "adult                0\n",
      "genre_ids            0\n",
      "id                   0\n",
      "original_language    0\n",
      "original_title       0\n",
      "overview             0\n",
      "popularity           2\n",
      "release_date         2\n",
      "title                0\n",
      "video                0\n",
      "vote_average         0\n",
      "vote_count           0\n",
      "dtype: int64\n",
      "credit_id     0\n",
      "department    0\n",
      "gender        0\n",
      "id            0\n",
      "job           0\n",
      "name          0\n",
      "dtype: int64\n",
      "cast_id      0\n",
      "character    0\n",
      "credit_id    0\n",
      "gender       0\n",
      "id           0\n",
      "name         0\n",
      "order        0\n",
      "dtype: int64\n"
     ]
    }
   ],
   "source": [
    "print(df_movies.isnull().sum())\n",
    "print(df_crew.isnull().sum())\n",
    "print(df_actors.isnull().sum())"
   ]
  },
  {
   "cell_type": "code",
   "execution_count": 10,
   "metadata": {
    "ExecuteTime": {
     "end_time": "2019-04-07T08:24:35.754771Z",
     "start_time": "2019-04-07T08:24:35.726981Z"
    }
   },
   "outputs": [],
   "source": [
    "df_movies.dropna(inplace=True)"
   ]
  },
  {
   "cell_type": "code",
   "execution_count": 11,
   "metadata": {
    "ExecuteTime": {
     "end_time": "2019-04-07T08:24:39.127679Z",
     "start_time": "2019-04-07T08:24:38.876573Z"
    }
   },
   "outputs": [],
   "source": [
    "movies['year'] = movies.title.str.extract(\"\\((\\d{4})\\)\", expand=True)\n",
    "# the release year for movies w/o one was set to 0\n",
    "#movies['year'] = pd.to_numeric(movies['year'], errors='raise').fillna(0).astype(np.int64)\n",
    "movies['title'] = movies.title.str.replace(\"\\s\\((\\d{4})\\)\",\"\")"
   ]
  },
  {
   "cell_type": "code",
   "execution_count": 12,
   "metadata": {
    "ExecuteTime": {
     "end_time": "2019-04-06T13:04:21.900759Z",
     "start_time": "2019-04-06T13:04:21.879354Z"
    }
   },
   "outputs": [
    {
     "name": "stdout",
     "output_type": "stream",
     "text": [
      "movieId      0\n",
      "title        0\n",
      "genres       0\n",
      "year       327\n",
      "dtype: int64\n"
     ]
    }
   ],
   "source": [
    "print(movies.isnull().sum())"
   ]
  },
  {
   "cell_type": "code",
   "execution_count": 13,
   "metadata": {
    "ExecuteTime": {
     "end_time": "2019-04-06T13:04:27.821782Z",
     "start_time": "2019-04-06T13:04:27.715939Z"
    }
   },
   "outputs": [
    {
     "name": "stdout",
     "output_type": "stream",
     "text": [
      "userId        0\n",
      "movieId       0\n",
      "tag          16\n",
      "timestamp     0\n",
      "dtype: int64\n"
     ]
    }
   ],
   "source": [
    "print(tags.isnull().sum())"
   ]
  },
  {
   "cell_type": "code",
   "execution_count": 14,
   "metadata": {
    "ExecuteTime": {
     "end_time": "2019-04-06T13:04:39.084984Z",
     "start_time": "2019-04-06T13:04:38.749823Z"
    }
   },
   "outputs": [],
   "source": [
    "movies.dropna(inplace=True)\n",
    "tags.dropna(inplace=True)"
   ]
  },
  {
   "cell_type": "code",
   "execution_count": 15,
   "metadata": {
    "ExecuteTime": {
     "end_time": "2019-04-06T13:04:59.555768Z",
     "start_time": "2019-04-06T13:04:53.047051Z"
    }
   },
   "outputs": [],
   "source": [
    "ratings[\"timestamp\"] =pd.to_datetime(ratings[\"timestamp\"], unit='s')\n",
    "ratings[\"timestamp\"] = ratings[\"timestamp\"].dt.date"
   ]
  },
  {
   "cell_type": "code",
   "execution_count": 16,
   "metadata": {
    "ExecuteTime": {
     "end_time": "2019-04-06T13:05:05.520066Z",
     "start_time": "2019-04-06T13:05:05.512038Z"
    }
   },
   "outputs": [
    {
     "data": {
      "text/html": [
       "<div>\n",
       "<style scoped>\n",
       "    .dataframe tbody tr th:only-of-type {\n",
       "        vertical-align: middle;\n",
       "    }\n",
       "\n",
       "    .dataframe tbody tr th {\n",
       "        vertical-align: top;\n",
       "    }\n",
       "\n",
       "    .dataframe thead th {\n",
       "        text-align: right;\n",
       "    }\n",
       "</style>\n",
       "<table border=\"1\" class=\"dataframe\">\n",
       "  <thead>\n",
       "    <tr style=\"text-align: right;\">\n",
       "      <th></th>\n",
       "      <th>userId</th>\n",
       "      <th>movieId</th>\n",
       "      <th>rating</th>\n",
       "      <th>timestamp</th>\n",
       "    </tr>\n",
       "  </thead>\n",
       "  <tbody>\n",
       "    <tr>\n",
       "      <th>27753439</th>\n",
       "      <td>283228</td>\n",
       "      <td>8542</td>\n",
       "      <td>4.5</td>\n",
       "      <td>2013-09-22</td>\n",
       "    </tr>\n",
       "    <tr>\n",
       "      <th>27753440</th>\n",
       "      <td>283228</td>\n",
       "      <td>8712</td>\n",
       "      <td>4.5</td>\n",
       "      <td>2013-09-22</td>\n",
       "    </tr>\n",
       "    <tr>\n",
       "      <th>27753441</th>\n",
       "      <td>283228</td>\n",
       "      <td>34405</td>\n",
       "      <td>4.5</td>\n",
       "      <td>2013-09-22</td>\n",
       "    </tr>\n",
       "    <tr>\n",
       "      <th>27753442</th>\n",
       "      <td>283228</td>\n",
       "      <td>44761</td>\n",
       "      <td>4.5</td>\n",
       "      <td>2012-11-29</td>\n",
       "    </tr>\n",
       "    <tr>\n",
       "      <th>27753443</th>\n",
       "      <td>283228</td>\n",
       "      <td>54286</td>\n",
       "      <td>4.5</td>\n",
       "      <td>2012-11-29</td>\n",
       "    </tr>\n",
       "  </tbody>\n",
       "</table>\n",
       "</div>"
      ],
      "text/plain": [
       "          userId  movieId  rating   timestamp\n",
       "27753439  283228     8542     4.5  2013-09-22\n",
       "27753440  283228     8712     4.5  2013-09-22\n",
       "27753441  283228    34405     4.5  2013-09-22\n",
       "27753442  283228    44761     4.5  2012-11-29\n",
       "27753443  283228    54286     4.5  2012-11-29"
      ]
     },
     "execution_count": 16,
     "metadata": {},
     "output_type": "execute_result"
    }
   ],
   "source": [
    "ratings.tail()"
   ]
  },
  {
   "cell_type": "code",
   "execution_count": 17,
   "metadata": {
    "ExecuteTime": {
     "end_time": "2019-04-06T13:05:29.762868Z",
     "start_time": "2019-04-06T13:05:15.816946Z"
    }
   },
   "outputs": [],
   "source": [
    "movies.sort_values(by='movieId', inplace=True)\n",
    "ratings.sort_values(by='movieId', inplace=True)\n",
    "tags.sort_values(by='movieId', inplace=True)\n",
    "links.sort_values(by='movieId', inplace=True)\n",
    "scores.sort_values(by='movieId', inplace=True)\n"
   ]
  },
  {
   "cell_type": "code",
   "execution_count": 18,
   "metadata": {
    "ExecuteTime": {
     "end_time": "2019-04-06T13:05:55.754210Z",
     "start_time": "2019-04-06T13:05:43.940146Z"
    }
   },
   "outputs": [],
   "source": [
    "df = pd.merge(movies,ratings,on='movieId')"
   ]
  },
  {
   "cell_type": "code",
   "execution_count": 19,
   "metadata": {
    "ExecuteTime": {
     "end_time": "2019-04-06T13:06:06.784371Z",
     "start_time": "2019-04-06T13:06:06.774157Z"
    }
   },
   "outputs": [
    {
     "data": {
      "text/html": [
       "<div>\n",
       "<style scoped>\n",
       "    .dataframe tbody tr th:only-of-type {\n",
       "        vertical-align: middle;\n",
       "    }\n",
       "\n",
       "    .dataframe tbody tr th {\n",
       "        vertical-align: top;\n",
       "    }\n",
       "\n",
       "    .dataframe thead th {\n",
       "        text-align: right;\n",
       "    }\n",
       "</style>\n",
       "<table border=\"1\" class=\"dataframe\">\n",
       "  <thead>\n",
       "    <tr style=\"text-align: right;\">\n",
       "      <th></th>\n",
       "      <th>movieId</th>\n",
       "      <th>title</th>\n",
       "      <th>genres</th>\n",
       "      <th>year</th>\n",
       "      <th>userId</th>\n",
       "      <th>rating</th>\n",
       "      <th>timestamp</th>\n",
       "    </tr>\n",
       "  </thead>\n",
       "  <tbody>\n",
       "    <tr>\n",
       "      <th>0</th>\n",
       "      <td>1</td>\n",
       "      <td>Toy Story</td>\n",
       "      <td>Adventure|Animation|Children|Comedy|Fantasy</td>\n",
       "      <td>1995</td>\n",
       "      <td>220887</td>\n",
       "      <td>4.5</td>\n",
       "      <td>2004-08-10</td>\n",
       "    </tr>\n",
       "    <tr>\n",
       "      <th>1</th>\n",
       "      <td>1</td>\n",
       "      <td>Toy Story</td>\n",
       "      <td>Adventure|Animation|Children|Comedy|Fantasy</td>\n",
       "      <td>1995</td>\n",
       "      <td>240345</td>\n",
       "      <td>3.5</td>\n",
       "      <td>2007-05-06</td>\n",
       "    </tr>\n",
       "    <tr>\n",
       "      <th>2</th>\n",
       "      <td>1</td>\n",
       "      <td>Toy Story</td>\n",
       "      <td>Adventure|Animation|Children|Comedy|Fantasy</td>\n",
       "      <td>1995</td>\n",
       "      <td>32915</td>\n",
       "      <td>5.0</td>\n",
       "      <td>1997-01-15</td>\n",
       "    </tr>\n",
       "    <tr>\n",
       "      <th>3</th>\n",
       "      <td>1</td>\n",
       "      <td>Toy Story</td>\n",
       "      <td>Adventure|Animation|Children|Comedy|Fantasy</td>\n",
       "      <td>1995</td>\n",
       "      <td>37924</td>\n",
       "      <td>4.0</td>\n",
       "      <td>1997-05-23</td>\n",
       "    </tr>\n",
       "    <tr>\n",
       "      <th>4</th>\n",
       "      <td>1</td>\n",
       "      <td>Toy Story</td>\n",
       "      <td>Adventure|Animation|Children|Comedy|Fantasy</td>\n",
       "      <td>1995</td>\n",
       "      <td>30387</td>\n",
       "      <td>4.0</td>\n",
       "      <td>2016-02-02</td>\n",
       "    </tr>\n",
       "  </tbody>\n",
       "</table>\n",
       "</div>"
      ],
      "text/plain": [
       "   movieId      title                                       genres  year  \\\n",
       "0        1  Toy Story  Adventure|Animation|Children|Comedy|Fantasy  1995   \n",
       "1        1  Toy Story  Adventure|Animation|Children|Comedy|Fantasy  1995   \n",
       "2        1  Toy Story  Adventure|Animation|Children|Comedy|Fantasy  1995   \n",
       "3        1  Toy Story  Adventure|Animation|Children|Comedy|Fantasy  1995   \n",
       "4        1  Toy Story  Adventure|Animation|Children|Comedy|Fantasy  1995   \n",
       "\n",
       "   userId  rating   timestamp  \n",
       "0  220887     4.5  2004-08-10  \n",
       "1  240345     3.5  2007-05-06  \n",
       "2   32915     5.0  1997-01-15  \n",
       "3   37924     4.0  1997-05-23  \n",
       "4   30387     4.0  2016-02-02  "
      ]
     },
     "execution_count": 19,
     "metadata": {},
     "output_type": "execute_result"
    }
   ],
   "source": [
    "df.head()"
   ]
  },
  {
   "cell_type": "code",
   "execution_count": 20,
   "metadata": {
    "ExecuteTime": {
     "end_time": "2019-04-06T13:06:29.053021Z",
     "start_time": "2019-04-06T13:06:18.435059Z"
    }
   },
   "outputs": [],
   "source": [
    "ratingCount = pd.DataFrame(df.groupby('title', as_index = False)['rating'].count().rename(columns={'rating' : 'ratingCount'}))"
   ]
  },
  {
   "cell_type": "code",
   "execution_count": 21,
   "metadata": {
    "ExecuteTime": {
     "end_time": "2019-04-06T13:06:35.196115Z",
     "start_time": "2019-04-06T13:06:35.184308Z"
    }
   },
   "outputs": [
    {
     "data": {
      "text/html": [
       "<div>\n",
       "<style scoped>\n",
       "    .dataframe tbody tr th:only-of-type {\n",
       "        vertical-align: middle;\n",
       "    }\n",
       "\n",
       "    .dataframe tbody tr th {\n",
       "        vertical-align: top;\n",
       "    }\n",
       "\n",
       "    .dataframe thead th {\n",
       "        text-align: right;\n",
       "    }\n",
       "</style>\n",
       "<table border=\"1\" class=\"dataframe\">\n",
       "  <thead>\n",
       "    <tr style=\"text-align: right;\">\n",
       "      <th></th>\n",
       "      <th>title</th>\n",
       "      <th>ratingCount</th>\n",
       "    </tr>\n",
       "  </thead>\n",
       "  <tbody>\n",
       "    <tr>\n",
       "      <th>36396</th>\n",
       "      <td>Shawshank Redemption, The</td>\n",
       "      <td>97999</td>\n",
       "    </tr>\n",
       "    <tr>\n",
       "      <th>15416</th>\n",
       "      <td>Forrest Gump</td>\n",
       "      <td>97040</td>\n",
       "    </tr>\n",
       "    <tr>\n",
       "      <th>33023</th>\n",
       "      <td>Pulp Fiction</td>\n",
       "      <td>92406</td>\n",
       "    </tr>\n",
       "    <tr>\n",
       "      <th>36767</th>\n",
       "      <td>Silence of the Lambs, The</td>\n",
       "      <td>87899</td>\n",
       "    </tr>\n",
       "    <tr>\n",
       "      <th>26613</th>\n",
       "      <td>Matrix, The</td>\n",
       "      <td>84545</td>\n",
       "    </tr>\n",
       "  </tbody>\n",
       "</table>\n",
       "</div>"
      ],
      "text/plain": [
       "                           title  ratingCount\n",
       "36396  Shawshank Redemption, The        97999\n",
       "15416               Forrest Gump        97040\n",
       "33023               Pulp Fiction        92406\n",
       "36767  Silence of the Lambs, The        87899\n",
       "26613                Matrix, The        84545"
      ]
     },
     "execution_count": 21,
     "metadata": {},
     "output_type": "execute_result"
    }
   ],
   "source": [
    "ratingCount.sort_values('ratingCount',ascending=False).head()"
   ]
  },
  {
   "cell_type": "code",
   "execution_count": 22,
   "metadata": {
    "ExecuteTime": {
     "end_time": "2019-04-06T13:06:49.979633Z",
     "start_time": "2019-04-06T13:06:48.222497Z"
    }
   },
   "outputs": [
    {
     "data": {
      "text/html": [
       "<div>\n",
       "<style scoped>\n",
       "    .dataframe tbody tr th:only-of-type {\n",
       "        vertical-align: middle;\n",
       "    }\n",
       "\n",
       "    .dataframe tbody tr th {\n",
       "        vertical-align: top;\n",
       "    }\n",
       "\n",
       "    .dataframe thead th {\n",
       "        text-align: right;\n",
       "    }\n",
       "</style>\n",
       "<table border=\"1\" class=\"dataframe\">\n",
       "  <thead>\n",
       "    <tr style=\"text-align: right;\">\n",
       "      <th></th>\n",
       "      <th>title</th>\n",
       "      <th>ratingMean</th>\n",
       "    </tr>\n",
       "  </thead>\n",
       "  <tbody>\n",
       "    <tr>\n",
       "      <th>5832</th>\n",
       "      <td>Blanche Fury</td>\n",
       "      <td>5.0</td>\n",
       "    </tr>\n",
       "    <tr>\n",
       "      <th>39958</th>\n",
       "      <td>Temple of the White Elephant</td>\n",
       "      <td>5.0</td>\n",
       "    </tr>\n",
       "    <tr>\n",
       "      <th>46031</th>\n",
       "      <td>Top Secret Rosies: The Female 'Computers' of WWII</td>\n",
       "      <td>5.0</td>\n",
       "    </tr>\n",
       "    <tr>\n",
       "      <th>687</th>\n",
       "      <td>8 Murders a Day</td>\n",
       "      <td>5.0</td>\n",
       "    </tr>\n",
       "    <tr>\n",
       "      <th>38872</th>\n",
       "      <td>Styx</td>\n",
       "      <td>5.0</td>\n",
       "    </tr>\n",
       "  </tbody>\n",
       "</table>\n",
       "</div>"
      ],
      "text/plain": [
       "                                                   title  ratingMean\n",
       "5832                                        Blanche Fury         5.0\n",
       "39958                       Temple of the White Elephant         5.0\n",
       "46031  Top Secret Rosies: The Female 'Computers' of WWII         5.0\n",
       "687                                      8 Murders a Day         5.0\n",
       "38872                                               Styx         5.0"
      ]
     },
     "execution_count": 22,
     "metadata": {},
     "output_type": "execute_result"
    }
   ],
   "source": [
    "ratingMean = pd.DataFrame(df.groupby('title', as_index = False)['rating'].mean().rename(columns={'rating' : 'ratingMean'}))\n",
    "ratingMean.sort_values('ratingMean',ascending=False).head(5)"
   ]
  },
  {
   "cell_type": "code",
   "execution_count": 23,
   "metadata": {
    "ExecuteTime": {
     "end_time": "2019-04-06T13:06:56.255925Z",
     "start_time": "2019-04-06T13:06:56.187870Z"
    }
   },
   "outputs": [
    {
     "data": {
      "text/html": [
       "<div>\n",
       "<style scoped>\n",
       "    .dataframe tbody tr th:only-of-type {\n",
       "        vertical-align: middle;\n",
       "    }\n",
       "\n",
       "    .dataframe tbody tr th {\n",
       "        vertical-align: top;\n",
       "    }\n",
       "\n",
       "    .dataframe thead th {\n",
       "        text-align: right;\n",
       "    }\n",
       "</style>\n",
       "<table border=\"1\" class=\"dataframe\">\n",
       "  <thead>\n",
       "    <tr style=\"text-align: right;\">\n",
       "      <th></th>\n",
       "      <th>title</th>\n",
       "      <th>ratingCount</th>\n",
       "      <th>ratingMean</th>\n",
       "    </tr>\n",
       "  </thead>\n",
       "  <tbody>\n",
       "    <tr>\n",
       "      <th>36396</th>\n",
       "      <td>Shawshank Redemption, The</td>\n",
       "      <td>97999</td>\n",
       "      <td>4.424188</td>\n",
       "    </tr>\n",
       "    <tr>\n",
       "      <th>15416</th>\n",
       "      <td>Forrest Gump</td>\n",
       "      <td>97040</td>\n",
       "      <td>4.056585</td>\n",
       "    </tr>\n",
       "    <tr>\n",
       "      <th>33023</th>\n",
       "      <td>Pulp Fiction</td>\n",
       "      <td>92406</td>\n",
       "      <td>4.173971</td>\n",
       "    </tr>\n",
       "    <tr>\n",
       "      <th>36767</th>\n",
       "      <td>Silence of the Lambs, The</td>\n",
       "      <td>87899</td>\n",
       "      <td>4.151412</td>\n",
       "    </tr>\n",
       "    <tr>\n",
       "      <th>26613</th>\n",
       "      <td>Matrix, The</td>\n",
       "      <td>84545</td>\n",
       "      <td>4.149695</td>\n",
       "    </tr>\n",
       "  </tbody>\n",
       "</table>\n",
       "</div>"
      ],
      "text/plain": [
       "                           title  ratingCount  ratingMean\n",
       "36396  Shawshank Redemption, The        97999    4.424188\n",
       "15416               Forrest Gump        97040    4.056585\n",
       "33023               Pulp Fiction        92406    4.173971\n",
       "36767  Silence of the Lambs, The        87899    4.151412\n",
       "26613                Matrix, The        84545    4.149695"
      ]
     },
     "execution_count": 23,
     "metadata": {},
     "output_type": "execute_result"
    }
   ],
   "source": [
    "ratings_count_mean = pd.merge(ratingCount,ratingMean, on='title')\n",
    "ratings_count_mean.sort_values('ratingCount',ascending=False).head(5)"
   ]
  },
  {
   "cell_type": "code",
   "execution_count": 24,
   "metadata": {
    "ExecuteTime": {
     "end_time": "2019-04-06T13:07:10.516036Z",
     "start_time": "2019-04-06T13:07:10.186553Z"
    }
   },
   "outputs": [],
   "source": [
    "genres_unique = pd.DataFrame(movies.genres.str.split('|').tolist()).stack().unique()\n",
    "genres_unique = pd.DataFrame(genres_unique, columns=['genre'])"
   ]
  },
  {
   "cell_type": "code",
   "execution_count": 26,
   "metadata": {
    "ExecuteTime": {
     "end_time": "2019-04-06T13:07:25.638331Z",
     "start_time": "2019-04-06T13:07:25.631525Z"
    }
   },
   "outputs": [
    {
     "data": {
      "text/html": [
       "<div>\n",
       "<style scoped>\n",
       "    .dataframe tbody tr th:only-of-type {\n",
       "        vertical-align: middle;\n",
       "    }\n",
       "\n",
       "    .dataframe tbody tr th {\n",
       "        vertical-align: top;\n",
       "    }\n",
       "\n",
       "    .dataframe thead th {\n",
       "        text-align: right;\n",
       "    }\n",
       "</style>\n",
       "<table border=\"1\" class=\"dataframe\">\n",
       "  <thead>\n",
       "    <tr style=\"text-align: right;\">\n",
       "      <th></th>\n",
       "      <th>genre</th>\n",
       "    </tr>\n",
       "  </thead>\n",
       "  <tbody>\n",
       "    <tr>\n",
       "      <th>0</th>\n",
       "      <td>Adventure</td>\n",
       "    </tr>\n",
       "    <tr>\n",
       "      <th>1</th>\n",
       "      <td>Animation</td>\n",
       "    </tr>\n",
       "    <tr>\n",
       "      <th>2</th>\n",
       "      <td>Children</td>\n",
       "    </tr>\n",
       "    <tr>\n",
       "      <th>3</th>\n",
       "      <td>Comedy</td>\n",
       "    </tr>\n",
       "    <tr>\n",
       "      <th>4</th>\n",
       "      <td>Fantasy</td>\n",
       "    </tr>\n",
       "    <tr>\n",
       "      <th>5</th>\n",
       "      <td>Romance</td>\n",
       "    </tr>\n",
       "    <tr>\n",
       "      <th>6</th>\n",
       "      <td>Drama</td>\n",
       "    </tr>\n",
       "    <tr>\n",
       "      <th>7</th>\n",
       "      <td>Action</td>\n",
       "    </tr>\n",
       "    <tr>\n",
       "      <th>8</th>\n",
       "      <td>Crime</td>\n",
       "    </tr>\n",
       "    <tr>\n",
       "      <th>9</th>\n",
       "      <td>Thriller</td>\n",
       "    </tr>\n",
       "    <tr>\n",
       "      <th>10</th>\n",
       "      <td>Horror</td>\n",
       "    </tr>\n",
       "    <tr>\n",
       "      <th>11</th>\n",
       "      <td>Mystery</td>\n",
       "    </tr>\n",
       "    <tr>\n",
       "      <th>12</th>\n",
       "      <td>Sci-Fi</td>\n",
       "    </tr>\n",
       "    <tr>\n",
       "      <th>13</th>\n",
       "      <td>IMAX</td>\n",
       "    </tr>\n",
       "    <tr>\n",
       "      <th>14</th>\n",
       "      <td>Documentary</td>\n",
       "    </tr>\n",
       "    <tr>\n",
       "      <th>15</th>\n",
       "      <td>War</td>\n",
       "    </tr>\n",
       "    <tr>\n",
       "      <th>16</th>\n",
       "      <td>Musical</td>\n",
       "    </tr>\n",
       "    <tr>\n",
       "      <th>17</th>\n",
       "      <td>Western</td>\n",
       "    </tr>\n",
       "    <tr>\n",
       "      <th>18</th>\n",
       "      <td>Film-Noir</td>\n",
       "    </tr>\n",
       "    <tr>\n",
       "      <th>19</th>\n",
       "      <td>(no genres listed)</td>\n",
       "    </tr>\n",
       "  </tbody>\n",
       "</table>\n",
       "</div>"
      ],
      "text/plain": [
       "                 genre\n",
       "0            Adventure\n",
       "1            Animation\n",
       "2             Children\n",
       "3               Comedy\n",
       "4              Fantasy\n",
       "5              Romance\n",
       "6                Drama\n",
       "7               Action\n",
       "8                Crime\n",
       "9             Thriller\n",
       "10              Horror\n",
       "11             Mystery\n",
       "12              Sci-Fi\n",
       "13                IMAX\n",
       "14         Documentary\n",
       "15                 War\n",
       "16             Musical\n",
       "17             Western\n",
       "18           Film-Noir\n",
       "19  (no genres listed)"
      ]
     },
     "execution_count": 26,
     "metadata": {},
     "output_type": "execute_result"
    }
   ],
   "source": [
    "genres_unique"
   ]
  },
  {
   "cell_type": "code",
   "execution_count": 27,
   "metadata": {
    "ExecuteTime": {
     "end_time": "2019-04-06T13:07:51.019472Z",
     "start_time": "2019-04-06T13:07:50.026521Z"
    }
   },
   "outputs": [],
   "source": [
    "movies_genres = movies.join(movies.genres.str.get_dummies().astype(bool))\n",
    "movies_genres.drop('genres', inplace=True, axis=1)"
   ]
  },
  {
   "cell_type": "code",
   "execution_count": 28,
   "metadata": {
    "ExecuteTime": {
     "end_time": "2019-04-06T13:07:57.145807Z",
     "start_time": "2019-04-06T13:07:57.127362Z"
    }
   },
   "outputs": [
    {
     "data": {
      "text/html": [
       "<div>\n",
       "<style scoped>\n",
       "    .dataframe tbody tr th:only-of-type {\n",
       "        vertical-align: middle;\n",
       "    }\n",
       "\n",
       "    .dataframe tbody tr th {\n",
       "        vertical-align: top;\n",
       "    }\n",
       "\n",
       "    .dataframe thead th {\n",
       "        text-align: right;\n",
       "    }\n",
       "</style>\n",
       "<table border=\"1\" class=\"dataframe\">\n",
       "  <thead>\n",
       "    <tr style=\"text-align: right;\">\n",
       "      <th></th>\n",
       "      <th>movieId</th>\n",
       "      <th>title</th>\n",
       "      <th>year</th>\n",
       "      <th>(no genres listed)</th>\n",
       "      <th>Action</th>\n",
       "      <th>Adventure</th>\n",
       "      <th>Animation</th>\n",
       "      <th>Children</th>\n",
       "      <th>Comedy</th>\n",
       "      <th>Crime</th>\n",
       "      <th>...</th>\n",
       "      <th>Film-Noir</th>\n",
       "      <th>Horror</th>\n",
       "      <th>IMAX</th>\n",
       "      <th>Musical</th>\n",
       "      <th>Mystery</th>\n",
       "      <th>Romance</th>\n",
       "      <th>Sci-Fi</th>\n",
       "      <th>Thriller</th>\n",
       "      <th>War</th>\n",
       "      <th>Western</th>\n",
       "    </tr>\n",
       "  </thead>\n",
       "  <tbody>\n",
       "    <tr>\n",
       "      <th>0</th>\n",
       "      <td>1</td>\n",
       "      <td>Toy Story</td>\n",
       "      <td>1995</td>\n",
       "      <td>False</td>\n",
       "      <td>False</td>\n",
       "      <td>True</td>\n",
       "      <td>True</td>\n",
       "      <td>True</td>\n",
       "      <td>True</td>\n",
       "      <td>False</td>\n",
       "      <td>...</td>\n",
       "      <td>False</td>\n",
       "      <td>False</td>\n",
       "      <td>False</td>\n",
       "      <td>False</td>\n",
       "      <td>False</td>\n",
       "      <td>False</td>\n",
       "      <td>False</td>\n",
       "      <td>False</td>\n",
       "      <td>False</td>\n",
       "      <td>False</td>\n",
       "    </tr>\n",
       "    <tr>\n",
       "      <th>1</th>\n",
       "      <td>2</td>\n",
       "      <td>Jumanji</td>\n",
       "      <td>1995</td>\n",
       "      <td>False</td>\n",
       "      <td>False</td>\n",
       "      <td>True</td>\n",
       "      <td>False</td>\n",
       "      <td>True</td>\n",
       "      <td>False</td>\n",
       "      <td>False</td>\n",
       "      <td>...</td>\n",
       "      <td>False</td>\n",
       "      <td>False</td>\n",
       "      <td>False</td>\n",
       "      <td>False</td>\n",
       "      <td>False</td>\n",
       "      <td>False</td>\n",
       "      <td>False</td>\n",
       "      <td>False</td>\n",
       "      <td>False</td>\n",
       "      <td>False</td>\n",
       "    </tr>\n",
       "    <tr>\n",
       "      <th>2</th>\n",
       "      <td>3</td>\n",
       "      <td>Grumpier Old Men</td>\n",
       "      <td>1995</td>\n",
       "      <td>False</td>\n",
       "      <td>False</td>\n",
       "      <td>False</td>\n",
       "      <td>False</td>\n",
       "      <td>False</td>\n",
       "      <td>True</td>\n",
       "      <td>False</td>\n",
       "      <td>...</td>\n",
       "      <td>False</td>\n",
       "      <td>False</td>\n",
       "      <td>False</td>\n",
       "      <td>False</td>\n",
       "      <td>False</td>\n",
       "      <td>True</td>\n",
       "      <td>False</td>\n",
       "      <td>False</td>\n",
       "      <td>False</td>\n",
       "      <td>False</td>\n",
       "    </tr>\n",
       "    <tr>\n",
       "      <th>3</th>\n",
       "      <td>4</td>\n",
       "      <td>Waiting to Exhale</td>\n",
       "      <td>1995</td>\n",
       "      <td>False</td>\n",
       "      <td>False</td>\n",
       "      <td>False</td>\n",
       "      <td>False</td>\n",
       "      <td>False</td>\n",
       "      <td>True</td>\n",
       "      <td>False</td>\n",
       "      <td>...</td>\n",
       "      <td>False</td>\n",
       "      <td>False</td>\n",
       "      <td>False</td>\n",
       "      <td>False</td>\n",
       "      <td>False</td>\n",
       "      <td>True</td>\n",
       "      <td>False</td>\n",
       "      <td>False</td>\n",
       "      <td>False</td>\n",
       "      <td>False</td>\n",
       "    </tr>\n",
       "    <tr>\n",
       "      <th>4</th>\n",
       "      <td>5</td>\n",
       "      <td>Father of the Bride Part II</td>\n",
       "      <td>1995</td>\n",
       "      <td>False</td>\n",
       "      <td>False</td>\n",
       "      <td>False</td>\n",
       "      <td>False</td>\n",
       "      <td>False</td>\n",
       "      <td>True</td>\n",
       "      <td>False</td>\n",
       "      <td>...</td>\n",
       "      <td>False</td>\n",
       "      <td>False</td>\n",
       "      <td>False</td>\n",
       "      <td>False</td>\n",
       "      <td>False</td>\n",
       "      <td>False</td>\n",
       "      <td>False</td>\n",
       "      <td>False</td>\n",
       "      <td>False</td>\n",
       "      <td>False</td>\n",
       "    </tr>\n",
       "  </tbody>\n",
       "</table>\n",
       "<p>5 rows × 23 columns</p>\n",
       "</div>"
      ],
      "text/plain": [
       "   movieId                        title  year  (no genres listed)  Action  \\\n",
       "0        1                    Toy Story  1995               False   False   \n",
       "1        2                      Jumanji  1995               False   False   \n",
       "2        3             Grumpier Old Men  1995               False   False   \n",
       "3        4            Waiting to Exhale  1995               False   False   \n",
       "4        5  Father of the Bride Part II  1995               False   False   \n",
       "\n",
       "   Adventure  Animation  Children  Comedy  Crime  ...  Film-Noir  Horror  \\\n",
       "0       True       True      True    True  False  ...      False   False   \n",
       "1       True      False      True   False  False  ...      False   False   \n",
       "2      False      False     False    True  False  ...      False   False   \n",
       "3      False      False     False    True  False  ...      False   False   \n",
       "4      False      False     False    True  False  ...      False   False   \n",
       "\n",
       "    IMAX  Musical  Mystery  Romance  Sci-Fi  Thriller    War  Western  \n",
       "0  False    False    False    False   False     False  False    False  \n",
       "1  False    False    False    False   False     False  False    False  \n",
       "2  False    False    False     True   False     False  False    False  \n",
       "3  False    False    False     True   False     False  False    False  \n",
       "4  False    False    False    False   False     False  False    False  \n",
       "\n",
       "[5 rows x 23 columns]"
      ]
     },
     "execution_count": 28,
     "metadata": {},
     "output_type": "execute_result"
    }
   ],
   "source": [
    "movies_genres.head()"
   ]
  },
  {
   "cell_type": "markdown",
   "metadata": {},
   "source": [
    "## Feature engineering\n",
    "A vous de créer les caractéristiques de description des données qui permettront d'améliorer les performances dans les tâches que vous aurez choisi d'aborder dans le projet."
   ]
  },
  {
   "cell_type": "code",
   "execution_count": 29,
   "metadata": {
    "ExecuteTime": {
     "end_time": "2019-04-06T13:09:24.230591Z",
     "start_time": "2019-04-06T13:09:23.892149Z"
    }
   },
   "outputs": [],
   "source": [
    "# Faire un dictionnaire avec tous les acteurs (acteur => indice)\n",
    "# + un dictionnaire inversé (indice => acteur)\n",
    "actor_index = dict()\n",
    "index_actor = dict()\n",
    "for film in acteurs:\n",
    "    for act in film:\n",
    "        # affecte une valeur à une clé si la clé n'est pas utilisé\n",
    "        res = actor_index.setdefault(act['name'], len(actor_index))\n",
    "        if res == len(actor_index)-1:\n",
    "            index_actor[len(actor_index)-1] = act['name']\n",
    "\n",
    "# Exemple de transformation supplémentaire\n",
    "# Dans combien de films de base joue Tom Hanks? (Réponse 57)\n",
    "# Dans combien de comédies...\n",
    "\n",
    "# => On voit qu'il est possible de créer facilement des nouvelles caractéristiques qui\n",
    "# apporteront des informations utiles pour certaines tâches"
   ]
  },
  {
   "cell_type": "code",
   "execution_count": 32,
   "metadata": {
    "ExecuteTime": {
     "end_time": "2019-04-06T13:09:46.868445Z",
     "start_time": "2019-04-06T13:09:46.863032Z"
    },
    "scrolled": true
   },
   "outputs": [
    {
     "data": {
      "text/plain": [
       "('Tom Hanks', 0)"
      ]
     },
     "execution_count": 32,
     "metadata": {},
     "output_type": "execute_result"
    }
   ],
   "source": [
    "index_actor[0], actor_index[\"Tom Hanks\"]"
   ]
  },
  {
   "cell_type": "code",
   "execution_count": 31,
   "metadata": {
    "ExecuteTime": {
     "end_time": "2019-03-29T17:38:39.729235Z",
     "start_time": "2019-03-29T17:38:39.665121Z"
    }
   },
   "outputs": [],
   "source": [
    "genres = dict()\n",
    "genres_inv = dict()\n",
    "for g in genres_unique.itertuples():\n",
    "    # affecte une valeur à une clé si la clé n'est pas utilisée\n",
    "    res = genres.setdefault(g.genre, len(genres))\n",
    "    if res == len(genres)-1:\n",
    "        genres_inv[len(genres)-1] = g.genre"
   ]
  },
  {
   "cell_type": "code",
   "execution_count": 32,
   "metadata": {
    "ExecuteTime": {
     "end_time": "2019-03-29T17:38:39.796553Z",
     "start_time": "2019-03-29T17:38:39.730709Z"
    }
   },
   "outputs": [
    {
     "data": {
      "text/plain": [
       "4"
      ]
     },
     "execution_count": 32,
     "metadata": {},
     "output_type": "execute_result"
    }
   ],
   "source": [
    "genres[\"Fantasy\"]"
   ]
  },
  {
   "cell_type": "code",
   "execution_count": 33,
   "metadata": {
    "ExecuteTime": {
     "end_time": "2019-03-29T17:38:40.034968Z",
     "start_time": "2019-03-29T17:38:39.798037Z"
    }
   },
   "outputs": [],
   "source": [
    "df_actors.sort_values(by='id', inplace=True)"
   ]
  },
  {
   "cell_type": "code",
   "execution_count": 34,
   "metadata": {
    "ExecuteTime": {
     "end_time": "2019-03-29T17:38:40.054342Z",
     "start_time": "2019-03-29T17:38:40.036564Z"
    }
   },
   "outputs": [],
   "source": [
    "df_movies.sort_values(by='id', inplace=True)"
   ]
  },
  {
   "cell_type": "code",
   "execution_count": 35,
   "metadata": {
    "ExecuteTime": {
     "end_time": "2019-03-29T17:38:40.110896Z",
     "start_time": "2019-03-29T17:38:40.057182Z"
    }
   },
   "outputs": [
    {
     "data": {
      "text/html": [
       "<div>\n",
       "<style scoped>\n",
       "    .dataframe tbody tr th:only-of-type {\n",
       "        vertical-align: middle;\n",
       "    }\n",
       "\n",
       "    .dataframe tbody tr th {\n",
       "        vertical-align: top;\n",
       "    }\n",
       "\n",
       "    .dataframe thead th {\n",
       "        text-align: right;\n",
       "    }\n",
       "</style>\n",
       "<table border=\"1\" class=\"dataframe\">\n",
       "  <thead>\n",
       "    <tr style=\"text-align: right;\">\n",
       "      <th></th>\n",
       "      <th>cast_id</th>\n",
       "      <th>character</th>\n",
       "      <th>credit_id</th>\n",
       "      <th>gender</th>\n",
       "      <th>id</th>\n",
       "      <th>name</th>\n",
       "      <th>order</th>\n",
       "    </tr>\n",
       "  </thead>\n",
       "  <tbody>\n",
       "    <tr>\n",
       "      <th>267934</th>\n",
       "      <td>11</td>\n",
       "      <td>Himself</td>\n",
       "      <td>56757ade92514179d4002e15</td>\n",
       "      <td>2</td>\n",
       "      <td>1</td>\n",
       "      <td>George Lucas</td>\n",
       "      <td>7</td>\n",
       "    </tr>\n",
       "    <tr>\n",
       "      <th>182264</th>\n",
       "      <td>78</td>\n",
       "      <td>Baron Papanoida</td>\n",
       "      <td>584a4128c3a368141f01b620</td>\n",
       "      <td>2</td>\n",
       "      <td>1</td>\n",
       "      <td>George Lucas</td>\n",
       "      <td>24</td>\n",
       "    </tr>\n",
       "    <tr>\n",
       "      <th>182650</th>\n",
       "      <td>13</td>\n",
       "      <td>Himself</td>\n",
       "      <td>5be613610e0a263bf80039c4</td>\n",
       "      <td>2</td>\n",
       "      <td>1</td>\n",
       "      <td>George Lucas</td>\n",
       "      <td>11</td>\n",
       "    </tr>\n",
       "    <tr>\n",
       "      <th>8009</th>\n",
       "      <td>5</td>\n",
       "      <td>Disappointed Man</td>\n",
       "      <td>52fe4235c3a36847f800c2f7</td>\n",
       "      <td>2</td>\n",
       "      <td>1</td>\n",
       "      <td>George Lucas</td>\n",
       "      <td>21</td>\n",
       "    </tr>\n",
       "    <tr>\n",
       "      <th>339106</th>\n",
       "      <td>1</td>\n",
       "      <td>Himself</td>\n",
       "      <td>52fe48799251416c9108db99</td>\n",
       "      <td>2</td>\n",
       "      <td>1</td>\n",
       "      <td>George Lucas</td>\n",
       "      <td>0</td>\n",
       "    </tr>\n",
       "  </tbody>\n",
       "</table>\n",
       "</div>"
      ],
      "text/plain": [
       "        cast_id         character                 credit_id  gender  id  \\\n",
       "267934       11           Himself  56757ade92514179d4002e15       2   1   \n",
       "182264       78   Baron Papanoida  584a4128c3a368141f01b620       2   1   \n",
       "182650       13           Himself  5be613610e0a263bf80039c4       2   1   \n",
       "8009          5  Disappointed Man  52fe4235c3a36847f800c2f7       2   1   \n",
       "339106        1           Himself  52fe48799251416c9108db99       2   1   \n",
       "\n",
       "                name  order  \n",
       "267934  George Lucas      7  \n",
       "182264  George Lucas     24  \n",
       "182650  George Lucas     11  \n",
       "8009    George Lucas     21  \n",
       "339106  George Lucas      0  "
      ]
     },
     "execution_count": 35,
     "metadata": {},
     "output_type": "execute_result"
    }
   ],
   "source": [
    "df_actors.head()"
   ]
  },
  {
   "cell_type": "code",
   "execution_count": 36,
   "metadata": {
    "ExecuteTime": {
     "end_time": "2019-03-29T17:38:40.184417Z",
     "start_time": "2019-03-29T17:38:40.112289Z"
    }
   },
   "outputs": [
    {
     "data": {
      "text/html": [
       "<div>\n",
       "<style scoped>\n",
       "    .dataframe tbody tr th:only-of-type {\n",
       "        vertical-align: middle;\n",
       "    }\n",
       "\n",
       "    .dataframe tbody tr th {\n",
       "        vertical-align: top;\n",
       "    }\n",
       "\n",
       "    .dataframe thead th {\n",
       "        text-align: right;\n",
       "    }\n",
       "</style>\n",
       "<table border=\"1\" class=\"dataframe\">\n",
       "  <thead>\n",
       "    <tr style=\"text-align: right;\">\n",
       "      <th></th>\n",
       "      <th>adult</th>\n",
       "      <th>genre_ids</th>\n",
       "      <th>id</th>\n",
       "      <th>original_language</th>\n",
       "      <th>original_title</th>\n",
       "      <th>overview</th>\n",
       "      <th>popularity</th>\n",
       "      <th>release_date</th>\n",
       "      <th>title</th>\n",
       "      <th>video</th>\n",
       "      <th>vote_average</th>\n",
       "      <th>vote_count</th>\n",
       "    </tr>\n",
       "  </thead>\n",
       "  <tbody>\n",
       "    <tr>\n",
       "      <th>0</th>\n",
       "      <td>False</td>\n",
       "      <td>[16, 35, 10751]</td>\n",
       "      <td>862</td>\n",
       "      <td>en</td>\n",
       "      <td>Toy Story</td>\n",
       "      <td>Led by Woody, Andy's toys live happily in his ...</td>\n",
       "      <td>22.773</td>\n",
       "      <td>1995-10-30</td>\n",
       "      <td>Toy Story</td>\n",
       "      <td>False</td>\n",
       "      <td>7.9</td>\n",
       "      <td>9550</td>\n",
       "    </tr>\n",
       "  </tbody>\n",
       "</table>\n",
       "</div>"
      ],
      "text/plain": [
       "   adult        genre_ids   id original_language original_title  \\\n",
       "0  False  [16, 35, 10751]  862                en      Toy Story   \n",
       "\n",
       "                                            overview  popularity release_date  \\\n",
       "0  Led by Woody, Andy's toys live happily in his ...      22.773   1995-10-30   \n",
       "\n",
       "       title  video  vote_average  vote_count  \n",
       "0  Toy Story  False           7.9        9550  "
      ]
     },
     "execution_count": 36,
     "metadata": {},
     "output_type": "execute_result"
    }
   ],
   "source": [
    "df_movies.loc[df_movies.original_title == 'Toy Story']"
   ]
  },
  {
   "cell_type": "code",
   "execution_count": 37,
   "metadata": {
    "ExecuteTime": {
     "end_time": "2019-03-29T17:38:40.253624Z",
     "start_time": "2019-03-29T17:38:40.185810Z"
    }
   },
   "outputs": [
    {
     "data": {
      "text/html": [
       "<div>\n",
       "<style scoped>\n",
       "    .dataframe tbody tr th:only-of-type {\n",
       "        vertical-align: middle;\n",
       "    }\n",
       "\n",
       "    .dataframe tbody tr th {\n",
       "        vertical-align: top;\n",
       "    }\n",
       "\n",
       "    .dataframe thead th {\n",
       "        text-align: right;\n",
       "    }\n",
       "</style>\n",
       "<table border=\"1\" class=\"dataframe\">\n",
       "  <thead>\n",
       "    <tr style=\"text-align: right;\">\n",
       "      <th></th>\n",
       "      <th>movieId</th>\n",
       "      <th>title</th>\n",
       "      <th>genres</th>\n",
       "      <th>year</th>\n",
       "    </tr>\n",
       "  </thead>\n",
       "  <tbody>\n",
       "    <tr>\n",
       "      <th>0</th>\n",
       "      <td>1</td>\n",
       "      <td>Toy Story</td>\n",
       "      <td>Adventure|Animation|Children|Comedy|Fantasy</td>\n",
       "      <td>1995</td>\n",
       "    </tr>\n",
       "  </tbody>\n",
       "</table>\n",
       "</div>"
      ],
      "text/plain": [
       "   movieId      title                                       genres  year\n",
       "0        1  Toy Story  Adventure|Animation|Children|Comedy|Fantasy  1995"
      ]
     },
     "execution_count": 37,
     "metadata": {},
     "output_type": "execute_result"
    }
   ],
   "source": [
    "movies.loc[movies.title == 'Toy Story']"
   ]
  },
  {
   "cell_type": "code",
   "execution_count": 38,
   "metadata": {
    "ExecuteTime": {
     "end_time": "2019-03-29T17:38:40.333296Z",
     "start_time": "2019-03-29T17:38:40.255016Z"
    }
   },
   "outputs": [
    {
     "data": {
      "text/html": [
       "<div>\n",
       "<style scoped>\n",
       "    .dataframe tbody tr th:only-of-type {\n",
       "        vertical-align: middle;\n",
       "    }\n",
       "\n",
       "    .dataframe tbody tr th {\n",
       "        vertical-align: top;\n",
       "    }\n",
       "\n",
       "    .dataframe thead th {\n",
       "        text-align: right;\n",
       "    }\n",
       "</style>\n",
       "<table border=\"1\" class=\"dataframe\">\n",
       "  <thead>\n",
       "    <tr style=\"text-align: right;\">\n",
       "      <th></th>\n",
       "      <th>adult</th>\n",
       "      <th>genre_ids</th>\n",
       "      <th>id</th>\n",
       "      <th>original_language</th>\n",
       "      <th>original_title</th>\n",
       "      <th>overview</th>\n",
       "      <th>popularity</th>\n",
       "      <th>release_date</th>\n",
       "      <th>title</th>\n",
       "      <th>video</th>\n",
       "      <th>vote_average</th>\n",
       "      <th>vote_count</th>\n",
       "    </tr>\n",
       "  </thead>\n",
       "  <tbody>\n",
       "    <tr>\n",
       "      <th>0</th>\n",
       "      <td>False</td>\n",
       "      <td>[16, 35, 10751]</td>\n",
       "      <td>862</td>\n",
       "      <td>en</td>\n",
       "      <td>Toy Story</td>\n",
       "      <td>Led by Woody, Andy's toys live happily in his ...</td>\n",
       "      <td>22.773</td>\n",
       "      <td>1995-10-30</td>\n",
       "      <td>Toy Story</td>\n",
       "      <td>False</td>\n",
       "      <td>7.9</td>\n",
       "      <td>9550</td>\n",
       "    </tr>\n",
       "  </tbody>\n",
       "</table>\n",
       "</div>"
      ],
      "text/plain": [
       "   adult        genre_ids   id original_language original_title  \\\n",
       "0  False  [16, 35, 10751]  862                en      Toy Story   \n",
       "\n",
       "                                            overview  popularity release_date  \\\n",
       "0  Led by Woody, Andy's toys live happily in his ...      22.773   1995-10-30   \n",
       "\n",
       "       title  video  vote_average  vote_count  \n",
       "0  Toy Story  False           7.9        9550  "
      ]
     },
     "execution_count": 38,
     "metadata": {},
     "output_type": "execute_result"
    }
   ],
   "source": [
    "df_movies.loc[df_movies.title == 'Toy Story']"
   ]
  },
  {
   "cell_type": "code",
   "execution_count": 39,
   "metadata": {
    "ExecuteTime": {
     "end_time": "2019-03-29T17:38:40.400845Z",
     "start_time": "2019-03-29T17:38:40.334653Z"
    }
   },
   "outputs": [
    {
     "data": {
      "text/plain": [
       "[{'cast_id': 14,\n",
       "  'character': 'Woody (voice)',\n",
       "  'credit_id': '52fe4284c3a36847f8024f95',\n",
       "  'gender': 2,\n",
       "  'id': 31,\n",
       "  'name': 'Tom Hanks',\n",
       "  'order': 0,\n",
       "  'profile_path': '/xxPMucou2wRDxLrud8i2D4dsywh.jpg'},\n",
       " {'cast_id': 15,\n",
       "  'character': 'Buzz Lightyear (voice)',\n",
       "  'credit_id': '52fe4284c3a36847f8024f99',\n",
       "  'gender': 2,\n",
       "  'id': 12898,\n",
       "  'name': 'Tim Allen',\n",
       "  'order': 1,\n",
       "  'profile_path': '/dDbtWMGdhatUjCIYolc312R2ygu.jpg'},\n",
       " {'cast_id': 16,\n",
       "  'character': 'Mr. Potato Head (voice)',\n",
       "  'credit_id': '52fe4284c3a36847f8024f9d',\n",
       "  'gender': 2,\n",
       "  'id': 7167,\n",
       "  'name': 'Don Rickles',\n",
       "  'order': 2,\n",
       "  'profile_path': '/h5BcaDMPRVLHLDzbQavec4xfSdt.jpg'},\n",
       " {'cast_id': 17,\n",
       "  'character': 'Slinky Dog (voice)',\n",
       "  'credit_id': '52fe4284c3a36847f8024fa1',\n",
       "  'gender': 2,\n",
       "  'id': 12899,\n",
       "  'name': 'Jim Varney',\n",
       "  'order': 3,\n",
       "  'profile_path': '/eIo2jVVXYgjDtaHoF19Ll9vtW7h.jpg'},\n",
       " {'cast_id': 18,\n",
       "  'character': 'Rex (voice)',\n",
       "  'credit_id': '52fe4284c3a36847f8024fa5',\n",
       "  'gender': 2,\n",
       "  'id': 12900,\n",
       "  'name': 'Wallace Shawn',\n",
       "  'order': 4,\n",
       "  'profile_path': '/oGE6JqPP2xH4tNORKNqxbNPYi7u.jpg'},\n",
       " {'cast_id': 19,\n",
       "  'character': 'Hamm (voice)',\n",
       "  'credit_id': '52fe4284c3a36847f8024fa9',\n",
       "  'gender': 2,\n",
       "  'id': 7907,\n",
       "  'name': 'John Ratzenberger',\n",
       "  'order': 5,\n",
       "  'profile_path': '/yGechiKWL6TJDfVE2KPSJYqdMsY.jpg'},\n",
       " {'cast_id': 20,\n",
       "  'character': 'Bo Peep (voice)',\n",
       "  'credit_id': '52fe4284c3a36847f8024fad',\n",
       "  'gender': 1,\n",
       "  'id': 8873,\n",
       "  'name': 'Annie Potts',\n",
       "  'order': 6,\n",
       "  'profile_path': '/eryXT84RL41jHSJcMy4kS3u9y6w.jpg'},\n",
       " {'cast_id': 26,\n",
       "  'character': 'Andy (voice)',\n",
       "  'credit_id': '52fe4284c3a36847f8024fc1',\n",
       "  'gender': 2,\n",
       "  'id': 1116442,\n",
       "  'name': 'John Morris',\n",
       "  'order': 7,\n",
       "  'profile_path': '/vYGyvK4LzeaUCoNSHtsuqJUY15M.jpg'},\n",
       " {'cast_id': 22,\n",
       "  'character': 'Sid (voice)',\n",
       "  'credit_id': '52fe4284c3a36847f8024fb1',\n",
       "  'gender': 2,\n",
       "  'id': 12901,\n",
       "  'name': 'Erik von Detten',\n",
       "  'order': 8,\n",
       "  'profile_path': '/twnF1ZaJ1FUNUuo6xLXwcxjayBE.jpg'},\n",
       " {'cast_id': 23,\n",
       "  'character': 'Mrs. Davis (voice)',\n",
       "  'credit_id': '52fe4284c3a36847f8024fb5',\n",
       "  'gender': 1,\n",
       "  'id': 12133,\n",
       "  'name': 'Laurie Metcalf',\n",
       "  'order': 9,\n",
       "  'profile_path': '/iUqHpUF9MgWh16uwf2rWtykpRkx.jpg'},\n",
       " {'cast_id': 24,\n",
       "  'character': 'Sergeant (voice)',\n",
       "  'credit_id': '52fe4284c3a36847f8024fb9',\n",
       "  'gender': 2,\n",
       "  'id': 8655,\n",
       "  'name': 'R. Lee Ermey',\n",
       "  'order': 10,\n",
       "  'profile_path': '/r8GBqFBjypLUP9VVqDqfZ7wYbSs.jpg'},\n",
       " {'cast_id': 25,\n",
       "  'character': 'Hannah (voice)',\n",
       "  'credit_id': '52fe4284c3a36847f8024fbd',\n",
       "  'gender': 1,\n",
       "  'id': 12903,\n",
       "  'name': 'Sarah Freeman',\n",
       "  'order': 11,\n",
       "  'profile_path': None},\n",
       " {'cast_id': 27,\n",
       "  'character': 'TV Announcer (voice)',\n",
       "  'credit_id': '52fe4284c3a36847f8024fc5',\n",
       "  'gender': 2,\n",
       "  'id': 37221,\n",
       "  'name': 'Penn Jillette',\n",
       "  'order': 12,\n",
       "  'profile_path': '/zmAaXUdx12NRsssgHbk1T31j2x9.jpg'},\n",
       " {'cast_id': 162,\n",
       "  'character': 'Mom (voice)',\n",
       "  'credit_id': '59f546f592514141ed005c7f',\n",
       "  'gender': 1,\n",
       "  'id': 214701,\n",
       "  'name': 'Sherry Lynn',\n",
       "  'order': 13,\n",
       "  'profile_path': '/kQDSC2z7sb6S5HcpOH6cmeJokKE.jpg'},\n",
       " {'cast_id': 300,\n",
       "  'character': 'Shark / Rocky Gibraltar (voice)',\n",
       "  'credit_id': '5aa599ad9251412787027f71',\n",
       "  'gender': 2,\n",
       "  'id': 19545,\n",
       "  'name': 'Jack Angel',\n",
       "  'order': 14,\n",
       "  'profile_path': '/qYvR57QBtXpdvj1jm2a8hjh7E4L.jpg'},\n",
       " {'cast_id': 301,\n",
       "  'character': 'Wounded Soldier (voice)',\n",
       "  'credit_id': '5aa599edc3a3687bfc02cbf2',\n",
       "  'gender': 0,\n",
       "  'id': 1266092,\n",
       "  'name': 'Spencer Aste',\n",
       "  'order': 15,\n",
       "  'profile_path': '/iOgF5vVXIwrHXm0I7JJEjWiNRRT.jpg'},\n",
       " {'cast_id': 302,\n",
       "  'character': 'Local Announcer (voice)',\n",
       "  'credit_id': '5aa59b229251412781026d69',\n",
       "  'gender': 2,\n",
       "  'id': 94038,\n",
       "  'name': 'Greg Berg',\n",
       "  'order': 16,\n",
       "  'profile_path': '/3TwBirdnh0AmKRSMhdWzzgZ0zTH.jpg'},\n",
       " {'cast_id': 303,\n",
       "  'character': 'Kid (voice)',\n",
       "  'credit_id': '5aa59b4e925141278d027723',\n",
       "  'gender': 0,\n",
       "  'id': 1202809,\n",
       "  'name': 'Lisa Bradley',\n",
       "  'order': 17,\n",
       "  'profile_path': None},\n",
       " {'cast_id': 304,\n",
       "  'character': 'Kid (voice)',\n",
       "  'credit_id': '5aa59b7b92514127840277c1',\n",
       "  'gender': 0,\n",
       "  'id': 134713,\n",
       "  'name': 'Kendall Cunningham',\n",
       "  'order': 18,\n",
       "  'profile_path': None},\n",
       " {'cast_id': 305,\n",
       "  'character': 'Aliens / Pizza Planet Announcer (voice)',\n",
       "  'credit_id': '5aa59b8d0e0a26075a02c4d4',\n",
       "  'gender': 1,\n",
       "  'id': 73016,\n",
       "  'name': 'Debi Derryberry',\n",
       "  'order': 19,\n",
       "  'profile_path': '/mfmF3MjoL7sV76BSElFkVgDgA30.jpg'},\n",
       " {'cast_id': 306,\n",
       "  'character': 'Kid (voice)',\n",
       "  'credit_id': '5aa59bc0c3a3687c0c02aa21',\n",
       "  'gender': 0,\n",
       "  'id': 186614,\n",
       "  'name': 'Cody Dorkin',\n",
       "  'order': 20,\n",
       "  'profile_path': '/pFmPDFwi1oPqvqZtiejlxTV86tn.jpg'},\n",
       " {'cast_id': 307,\n",
       "  'character': 'Kid (voice)',\n",
       "  'credit_id': '5aa59bd0c3a3687bfc02cdf4',\n",
       "  'gender': 0,\n",
       "  'id': 1017469,\n",
       "  'name': 'Gregory Grudt',\n",
       "  'order': 21,\n",
       "  'profile_path': '/jISwKoeLNnc6X3Jylknnqdr6MZq.jpg'},\n",
       " {'cast_id': 308,\n",
       "  'character': 'Kid (voice)',\n",
       "  'credit_id': '5aa59bde0e0a26074d0285ce',\n",
       "  'gender': 0,\n",
       "  'id': 1266095,\n",
       "  'name': 'Sam Lasseter',\n",
       "  'order': 22,\n",
       "  'profile_path': None},\n",
       " {'cast_id': 309,\n",
       "  'character': 'Kid (voice)',\n",
       "  'credit_id': '5aa59c0b0e0a26075402b8a5',\n",
       "  'gender': 1,\n",
       "  'id': 178710,\n",
       "  'name': 'Brittany Levenbrown',\n",
       "  'order': 23,\n",
       "  'profile_path': None},\n",
       " {'cast_id': 310,\n",
       "  'character': 'Monotone Announcer (voice)',\n",
       "  'credit_id': '5aa59c2e0e0a26075d02c5cd',\n",
       "  'gender': 2,\n",
       "  'id': 84213,\n",
       "  'name': 'Bill Farmer',\n",
       "  'order': 24,\n",
       "  'profile_path': '/dhIal4zmxsy7t2Bd6IfjpD8X5Mz.jpg'},\n",
       " {'cast_id': 311,\n",
       "  'character': 'Mission Control (voice)',\n",
       "  'credit_id': '5aa59c62925141278d027807',\n",
       "  'gender': 2,\n",
       "  'id': 1122227,\n",
       "  'name': 'Craig Good',\n",
       "  'order': 25,\n",
       "  'profile_path': '/xqm0wzTaReXJKtRKaVQg7cwUV14.jpg'},\n",
       " {'cast_id': 312,\n",
       "  'character': 'Burned Rag Doll (voice)',\n",
       "  'credit_id': '5aa59c75925141277e02772d',\n",
       "  'gender': 0,\n",
       "  'id': 1217873,\n",
       "  'name': 'Danielle Judovits',\n",
       "  'order': 26,\n",
       "  'profile_path': '/bi4q307EILaJ4HIueVE4Hv59JXY.jpg'},\n",
       " {'cast_id': 313,\n",
       "  'character': 'Kid (voice)',\n",
       "  'credit_id': '5aa59ca4c3a3687c2502c393',\n",
       "  'gender': 2,\n",
       "  'id': 79020,\n",
       "  'name': 'Scott McAfee',\n",
       "  'order': 27,\n",
       "  'profile_path': '/kEd73kzCrVhfnNa8LLULpna72Jk.jpg'},\n",
       " {'cast_id': 314,\n",
       "  'character': 'Kid (voice)',\n",
       "  'credit_id': '5aa59cb20e0a26074b02c841',\n",
       "  'gender': 2,\n",
       "  'id': 166406,\n",
       "  'name': \"Ryan O'Donohue\",\n",
       "  'order': 28,\n",
       "  'profile_path': '/l1NV0rGZvHI7yGOeFbPeffoHtuP.jpg'},\n",
       " {'cast_id': 315,\n",
       "  'character': 'Aliens / Robot / Mr. Spell (voice)',\n",
       "  'credit_id': '5aa59cbf0e0a260760027438',\n",
       "  'gender': 2,\n",
       "  'id': 7882,\n",
       "  'name': 'Jeff Pidgeon',\n",
       "  'order': 29,\n",
       "  'profile_path': '/yLddkg5HcgbJg00cS13GVBnP0HY.jpg'},\n",
       " {'cast_id': 316,\n",
       "  'character': 'Pizza Delivery Guy / Angry Driver #2 (voice)',\n",
       "  'credit_id': '5aa59cce925141279302851e',\n",
       "  'gender': 2,\n",
       "  'id': 61968,\n",
       "  'name': 'Patrick Pinney',\n",
       "  'order': 30,\n",
       "  'profile_path': None},\n",
       " {'cast_id': 317,\n",
       "  'character': 'Pizza Planet Announcer / Pizza Planet Guard (voice)',\n",
       "  'credit_id': '5aa59cdec3a3687c2502c3d9',\n",
       "  'gender': 2,\n",
       "  'id': 61969,\n",
       "  'name': 'Phil Proctor',\n",
       "  'order': 31,\n",
       "  'profile_path': '/15jVORFFWoRMcqKoeVJQXyEfLVz.jpg'},\n",
       " {'cast_id': 318,\n",
       "  'character': 'Gas Station Attendant (voice)',\n",
       "  'credit_id': '5aa59ced0e0a26075a02c62b',\n",
       "  'gender': 2,\n",
       "  'id': 157626,\n",
       "  'name': 'Jan Rabson',\n",
       "  'order': 32,\n",
       "  'profile_path': '/6mfE6PFzOlKb2Qf4dURbKzLrTTC.jpg'},\n",
       " {'cast_id': 319,\n",
       "  'character': 'Lenny the Binoculars (voice)',\n",
       "  'credit_id': '5aa59cfa0e0a260760027472',\n",
       "  'gender': 0,\n",
       "  'id': 7911,\n",
       "  'name': 'Joe Ranft',\n",
       "  'order': 33,\n",
       "  'profile_path': '/f1BoWC2JbCcfP1e5hKfGsxkHzVU.jpg'},\n",
       " {'cast_id': 320,\n",
       "  'character': 'Commercial Chorus (voice)',\n",
       "  'credit_id': '5aa59d0bc3a3687bff02cc99',\n",
       "  'gender': 2,\n",
       "  'id': 7,\n",
       "  'name': 'Andrew Stanton',\n",
       "  'order': 34,\n",
       "  'profile_path': '/gasNitCwepbqNcYBmDHpsCgZH0I.jpg'},\n",
       " {'cast_id': 321,\n",
       "  'character': 'Kid (voice)',\n",
       "  'credit_id': '5aa59d18925141277e0277a1',\n",
       "  'gender': 2,\n",
       "  'id': 158124,\n",
       "  'name': 'Shane Sweet',\n",
       "  'order': 35,\n",
       "  'profile_path': '/lsutYUETco7Rjr24CLWPC80EzEP.jpg'},\n",
       " {'cast_id': 322,\n",
       "  'character': 'Timon (voice) (archive footage) (uncredited)',\n",
       "  'credit_id': '5aa59d539251412781026f2c',\n",
       "  'gender': 2,\n",
       "  'id': 78729,\n",
       "  'name': 'Nathan Lane',\n",
       "  'order': 36,\n",
       "  'profile_path': '/2eB01W4VURqihttVdewfhfhhCwW.jpg'},\n",
       " {'cast_id': 323,\n",
       "  'character': 'Commercial Chorus #1 (voice) (uncredited)',\n",
       "  'credit_id': '5aa59d62c3a3687c06026721',\n",
       "  'gender': 2,\n",
       "  'id': 7879,\n",
       "  'name': 'John Lasseter',\n",
       "  'order': 37,\n",
       "  'profile_path': '/7EdqiNbr4FRjIhKHyPPdFfEEEFG.jpg'},\n",
       " {'cast_id': 324,\n",
       "  'character': 'Pumbaa (voice) (archive footage) (uncredited)',\n",
       "  'credit_id': '5aa59d6fc3a3687c2502c468',\n",
       "  'gender': 2,\n",
       "  'id': 69415,\n",
       "  'name': 'Ernie Sabella',\n",
       "  'order': 38,\n",
       "  'profile_path': '/nwdAp8FacfZ1eRU7gNkOwWvDqnc.jpg'}]"
      ]
     },
     "execution_count": 39,
     "metadata": {},
     "output_type": "execute_result"
    }
   ],
   "source": [
    "acteurs[0]"
   ]
  },
  {
   "cell_type": "code",
   "execution_count": 40,
   "metadata": {
    "ExecuteTime": {
     "end_time": "2019-03-29T17:38:40.533181Z",
     "start_time": "2019-03-29T17:38:40.402382Z"
    }
   },
   "outputs": [
    {
     "data": {
      "text/html": [
       "<div>\n",
       "<style scoped>\n",
       "    .dataframe tbody tr th:only-of-type {\n",
       "        vertical-align: middle;\n",
       "    }\n",
       "\n",
       "    .dataframe tbody tr th {\n",
       "        vertical-align: top;\n",
       "    }\n",
       "\n",
       "    .dataframe thead th {\n",
       "        text-align: right;\n",
       "    }\n",
       "</style>\n",
       "<table border=\"1\" class=\"dataframe\">\n",
       "  <thead>\n",
       "    <tr style=\"text-align: right;\">\n",
       "      <th></th>\n",
       "      <th>cast_id</th>\n",
       "      <th>character</th>\n",
       "      <th>credit_id</th>\n",
       "      <th>gender</th>\n",
       "      <th>id</th>\n",
       "      <th>name</th>\n",
       "      <th>order</th>\n",
       "    </tr>\n",
       "  </thead>\n",
       "  <tbody>\n",
       "    <tr>\n",
       "      <th>356723</th>\n",
       "      <td>7</td>\n",
       "      <td>Buzz Lightyear</td>\n",
       "      <td>52fe4dbec3a368484e1fac15</td>\n",
       "      <td>2</td>\n",
       "      <td>12898</td>\n",
       "      <td>Tim Allen</td>\n",
       "      <td>1</td>\n",
       "    </tr>\n",
       "    <tr>\n",
       "      <th>266660</th>\n",
       "      <td>9</td>\n",
       "      <td>Buzz Lightyear (voice)</td>\n",
       "      <td>52fe433f9251416c75009169</td>\n",
       "      <td>2</td>\n",
       "      <td>12898</td>\n",
       "      <td>Tim Allen</td>\n",
       "      <td>1</td>\n",
       "    </tr>\n",
       "    <tr>\n",
       "      <th>5988</th>\n",
       "      <td>10</td>\n",
       "      <td>Santa Claus / Scott Calvin</td>\n",
       "      <td>52fe44379251416c7502ce9b</td>\n",
       "      <td>2</td>\n",
       "      <td>12898</td>\n",
       "      <td>Tim Allen</td>\n",
       "      <td>0</td>\n",
       "    </tr>\n",
       "    <tr>\n",
       "      <th>152772</th>\n",
       "      <td>1</td>\n",
       "      <td>Luther Krank</td>\n",
       "      <td>52fe458a9251416c7505a0a7</td>\n",
       "      <td>2</td>\n",
       "      <td>12898</td>\n",
       "      <td>Tim Allen</td>\n",
       "      <td>0</td>\n",
       "    </tr>\n",
       "    <tr>\n",
       "      <th>225420</th>\n",
       "      <td>2</td>\n",
       "      <td>Chet Frank</td>\n",
       "      <td>52fe44dc9251416c750437b5</td>\n",
       "      <td>2</td>\n",
       "      <td>12898</td>\n",
       "      <td>Tim Allen</td>\n",
       "      <td>1</td>\n",
       "    </tr>\n",
       "    <tr>\n",
       "      <th>195611</th>\n",
       "      <td>22</td>\n",
       "      <td>Dave Douglas</td>\n",
       "      <td>52fe431a9251416c75003823</td>\n",
       "      <td>2</td>\n",
       "      <td>12898</td>\n",
       "      <td>Tim Allen</td>\n",
       "      <td>0</td>\n",
       "    </tr>\n",
       "    <tr>\n",
       "      <th>278490</th>\n",
       "      <td>1</td>\n",
       "      <td>Tommy</td>\n",
       "      <td>52fe45a69251416c910399e7</td>\n",
       "      <td>2</td>\n",
       "      <td>12898</td>\n",
       "      <td>Tim Allen</td>\n",
       "      <td>0</td>\n",
       "    </tr>\n",
       "    <tr>\n",
       "      <th>28496</th>\n",
       "      <td>11</td>\n",
       "      <td>Michael Cromwell</td>\n",
       "      <td>52fe44f8c3a36847f80b4f77</td>\n",
       "      <td>2</td>\n",
       "      <td>12898</td>\n",
       "      <td>Tim Allen</td>\n",
       "      <td>0</td>\n",
       "    </tr>\n",
       "    <tr>\n",
       "      <th>389622</th>\n",
       "      <td>1</td>\n",
       "      <td>Buzz Lightyear (voice)</td>\n",
       "      <td>52fe48509251416c91087f5d</td>\n",
       "      <td>2</td>\n",
       "      <td>12898</td>\n",
       "      <td>Tim Allen</td>\n",
       "      <td>1</td>\n",
       "    </tr>\n",
       "    <tr>\n",
       "      <th>197625</th>\n",
       "      <td>68</td>\n",
       "      <td>Buzz Lightyear Car (voice)</td>\n",
       "      <td>550da0af9251414695005f49</td>\n",
       "      <td>2</td>\n",
       "      <td>12898</td>\n",
       "      <td>Tim Allen</td>\n",
       "      <td>23</td>\n",
       "    </tr>\n",
       "    <tr>\n",
       "      <th>28072</th>\n",
       "      <td>18</td>\n",
       "      <td>Tim Allen</td>\n",
       "      <td>5ac2c8bcc3a3682d33026b1d</td>\n",
       "      <td>2</td>\n",
       "      <td>12898</td>\n",
       "      <td>Tim Allen</td>\n",
       "      <td>16</td>\n",
       "    </tr>\n",
       "    <tr>\n",
       "      <th>93695</th>\n",
       "      <td>1</td>\n",
       "      <td>Joe Scheffer</td>\n",
       "      <td>52fe44db9251416c7504353b</td>\n",
       "      <td>2</td>\n",
       "      <td>12898</td>\n",
       "      <td>Tim Allen</td>\n",
       "      <td>0</td>\n",
       "    </tr>\n",
       "    <tr>\n",
       "      <th>59384</th>\n",
       "      <td>404</td>\n",
       "      <td>Buzz Lightyear (voice)</td>\n",
       "      <td>5ac16ecdc3a3682db5010610</td>\n",
       "      <td>2</td>\n",
       "      <td>12898</td>\n",
       "      <td>Tim Allen</td>\n",
       "      <td>1</td>\n",
       "    </tr>\n",
       "    <tr>\n",
       "      <th>402629</th>\n",
       "      <td>4</td>\n",
       "      <td>Buzz Lightyear</td>\n",
       "      <td>52fe4b68c3a368484e187943</td>\n",
       "      <td>2</td>\n",
       "      <td>12898</td>\n",
       "      <td>Tim Allen</td>\n",
       "      <td>1</td>\n",
       "    </tr>\n",
       "    <tr>\n",
       "      <th>389599</th>\n",
       "      <td>1</td>\n",
       "      <td>Buzz Lightyear (voice)</td>\n",
       "      <td>52fe4982c3a368484e12efff</td>\n",
       "      <td>2</td>\n",
       "      <td>12898</td>\n",
       "      <td>Tim Allen</td>\n",
       "      <td>1</td>\n",
       "    </tr>\n",
       "    <tr>\n",
       "      <th>204931</th>\n",
       "      <td>1</td>\n",
       "      <td>Santa</td>\n",
       "      <td>52fe45969251416c7505b9fd</td>\n",
       "      <td>2</td>\n",
       "      <td>12898</td>\n",
       "      <td>Tim Allen</td>\n",
       "      <td>0</td>\n",
       "    </tr>\n",
       "    <tr>\n",
       "      <th>281813</th>\n",
       "      <td>15</td>\n",
       "      <td>Himself</td>\n",
       "      <td>573de94a9251413dfc000797</td>\n",
       "      <td>2</td>\n",
       "      <td>12898</td>\n",
       "      <td>Tim Allen</td>\n",
       "      <td>10</td>\n",
       "    </tr>\n",
       "    <tr>\n",
       "      <th>102385</th>\n",
       "      <td>2</td>\n",
       "      <td>Critical Jim</td>\n",
       "      <td>52fe45009251416c9102428f</td>\n",
       "      <td>2</td>\n",
       "      <td>12898</td>\n",
       "      <td>Tim Allen</td>\n",
       "      <td>1</td>\n",
       "    </tr>\n",
       "    <tr>\n",
       "      <th>209860</th>\n",
       "      <td>1</td>\n",
       "      <td>Doug Madsen</td>\n",
       "      <td>52fe440e9251416c7502766b</td>\n",
       "      <td>2</td>\n",
       "      <td>12898</td>\n",
       "      <td>Tim Allen</td>\n",
       "      <td>0</td>\n",
       "    </tr>\n",
       "    <tr>\n",
       "      <th>318652</th>\n",
       "      <td>3</td>\n",
       "      <td>narrator</td>\n",
       "      <td>52fe4865c3a368484e0f6767</td>\n",
       "      <td>2</td>\n",
       "      <td>12898</td>\n",
       "      <td>Tim Allen</td>\n",
       "      <td>0</td>\n",
       "    </tr>\n",
       "    <tr>\n",
       "      <th>32254</th>\n",
       "      <td>1</td>\n",
       "      <td>Brad</td>\n",
       "      <td>52fe43629251416c7500e315</td>\n",
       "      <td>2</td>\n",
       "      <td>12898</td>\n",
       "      <td>Tim Allen</td>\n",
       "      <td>0</td>\n",
       "    </tr>\n",
       "    <tr>\n",
       "      <th>107219</th>\n",
       "      <td>1</td>\n",
       "      <td>Scott Calvin / Santa Clause</td>\n",
       "      <td>52fe44d2c3a36847f80abfe7</td>\n",
       "      <td>2</td>\n",
       "      <td>12898</td>\n",
       "      <td>Tim Allen</td>\n",
       "      <td>0</td>\n",
       "    </tr>\n",
       "    <tr>\n",
       "      <th>1</th>\n",
       "      <td>15</td>\n",
       "      <td>Buzz Lightyear (voice)</td>\n",
       "      <td>52fe4284c3a36847f8024f99</td>\n",
       "      <td>2</td>\n",
       "      <td>12898</td>\n",
       "      <td>Tim Allen</td>\n",
       "      <td>1</td>\n",
       "    </tr>\n",
       "    <tr>\n",
       "      <th>89779</th>\n",
       "      <td>1</td>\n",
       "      <td>Eliot Arnold</td>\n",
       "      <td>52fe433ec3a36847f804571f</td>\n",
       "      <td>2</td>\n",
       "      <td>12898</td>\n",
       "      <td>Tim Allen</td>\n",
       "      <td>0</td>\n",
       "    </tr>\n",
       "    <tr>\n",
       "      <th>402660</th>\n",
       "      <td>1</td>\n",
       "      <td>Buzz Lightyear (voice)</td>\n",
       "      <td>543d70a40e0a266f8e0002c6</td>\n",
       "      <td>2</td>\n",
       "      <td>12898</td>\n",
       "      <td>Tim Allen</td>\n",
       "      <td>2</td>\n",
       "    </tr>\n",
       "    <tr>\n",
       "      <th>339957</th>\n",
       "      <td>100</td>\n",
       "      <td>Himself</td>\n",
       "      <td>52fe45b8c3a36847f80d6b71</td>\n",
       "      <td>2</td>\n",
       "      <td>12898</td>\n",
       "      <td>Tim Allen</td>\n",
       "      <td>87</td>\n",
       "    </tr>\n",
       "    <tr>\n",
       "      <th>200852</th>\n",
       "      <td>1</td>\n",
       "      <td>Jack Sheppard</td>\n",
       "      <td>52fe45cc9251416c75062dbd</td>\n",
       "      <td>2</td>\n",
       "      <td>12898</td>\n",
       "      <td>Tim Allen</td>\n",
       "      <td>0</td>\n",
       "    </tr>\n",
       "    <tr>\n",
       "      <th>60533</th>\n",
       "      <td>40</td>\n",
       "      <td>Jason Nesmith</td>\n",
       "      <td>52fe428ec3a36847f8027ef3</td>\n",
       "      <td>2</td>\n",
       "      <td>12898</td>\n",
       "      <td>Tim Allen</td>\n",
       "      <td>0</td>\n",
       "    </tr>\n",
       "  </tbody>\n",
       "</table>\n",
       "</div>"
      ],
      "text/plain": [
       "        cast_id                    character                 credit_id  \\\n",
       "356723        7               Buzz Lightyear  52fe4dbec3a368484e1fac15   \n",
       "266660        9       Buzz Lightyear (voice)  52fe433f9251416c75009169   \n",
       "5988         10   Santa Claus / Scott Calvin  52fe44379251416c7502ce9b   \n",
       "152772        1                 Luther Krank  52fe458a9251416c7505a0a7   \n",
       "225420        2                   Chet Frank  52fe44dc9251416c750437b5   \n",
       "195611       22                 Dave Douglas  52fe431a9251416c75003823   \n",
       "278490        1                        Tommy  52fe45a69251416c910399e7   \n",
       "28496        11             Michael Cromwell  52fe44f8c3a36847f80b4f77   \n",
       "389622        1       Buzz Lightyear (voice)  52fe48509251416c91087f5d   \n",
       "197625       68   Buzz Lightyear Car (voice)  550da0af9251414695005f49   \n",
       "28072        18                    Tim Allen  5ac2c8bcc3a3682d33026b1d   \n",
       "93695         1                 Joe Scheffer  52fe44db9251416c7504353b   \n",
       "59384       404       Buzz Lightyear (voice)  5ac16ecdc3a3682db5010610   \n",
       "402629        4               Buzz Lightyear  52fe4b68c3a368484e187943   \n",
       "389599        1       Buzz Lightyear (voice)  52fe4982c3a368484e12efff   \n",
       "204931        1                        Santa  52fe45969251416c7505b9fd   \n",
       "281813       15                      Himself  573de94a9251413dfc000797   \n",
       "102385        2                 Critical Jim  52fe45009251416c9102428f   \n",
       "209860        1                  Doug Madsen  52fe440e9251416c7502766b   \n",
       "318652        3                     narrator  52fe4865c3a368484e0f6767   \n",
       "32254         1                         Brad  52fe43629251416c7500e315   \n",
       "107219        1  Scott Calvin / Santa Clause  52fe44d2c3a36847f80abfe7   \n",
       "1            15       Buzz Lightyear (voice)  52fe4284c3a36847f8024f99   \n",
       "89779         1                 Eliot Arnold  52fe433ec3a36847f804571f   \n",
       "402660        1       Buzz Lightyear (voice)  543d70a40e0a266f8e0002c6   \n",
       "339957      100                      Himself  52fe45b8c3a36847f80d6b71   \n",
       "200852        1                Jack Sheppard  52fe45cc9251416c75062dbd   \n",
       "60533        40                Jason Nesmith  52fe428ec3a36847f8027ef3   \n",
       "\n",
       "        gender     id       name  order  \n",
       "356723       2  12898  Tim Allen      1  \n",
       "266660       2  12898  Tim Allen      1  \n",
       "5988         2  12898  Tim Allen      0  \n",
       "152772       2  12898  Tim Allen      0  \n",
       "225420       2  12898  Tim Allen      1  \n",
       "195611       2  12898  Tim Allen      0  \n",
       "278490       2  12898  Tim Allen      0  \n",
       "28496        2  12898  Tim Allen      0  \n",
       "389622       2  12898  Tim Allen      1  \n",
       "197625       2  12898  Tim Allen     23  \n",
       "28072        2  12898  Tim Allen     16  \n",
       "93695        2  12898  Tim Allen      0  \n",
       "59384        2  12898  Tim Allen      1  \n",
       "402629       2  12898  Tim Allen      1  \n",
       "389599       2  12898  Tim Allen      1  \n",
       "204931       2  12898  Tim Allen      0  \n",
       "281813       2  12898  Tim Allen     10  \n",
       "102385       2  12898  Tim Allen      1  \n",
       "209860       2  12898  Tim Allen      0  \n",
       "318652       2  12898  Tim Allen      0  \n",
       "32254        2  12898  Tim Allen      0  \n",
       "107219       2  12898  Tim Allen      0  \n",
       "1            2  12898  Tim Allen      1  \n",
       "89779        2  12898  Tim Allen      0  \n",
       "402660       2  12898  Tim Allen      2  \n",
       "339957       2  12898  Tim Allen     87  \n",
       "200852       2  12898  Tim Allen      0  \n",
       "60533        2  12898  Tim Allen      0  "
      ]
     },
     "execution_count": 40,
     "metadata": {},
     "output_type": "execute_result"
    }
   ],
   "source": [
    "df_actors.loc[df_actors.name == 'Tim Allen']"
   ]
  },
  {
   "cell_type": "code",
   "execution_count": 41,
   "metadata": {
    "ExecuteTime": {
     "end_time": "2019-03-29T17:38:40.616174Z",
     "start_time": "2019-03-29T17:38:40.534545Z"
    }
   },
   "outputs": [
    {
     "data": {
      "text/html": [
       "<div>\n",
       "<style scoped>\n",
       "    .dataframe tbody tr th:only-of-type {\n",
       "        vertical-align: middle;\n",
       "    }\n",
       "\n",
       "    .dataframe tbody tr th {\n",
       "        vertical-align: top;\n",
       "    }\n",
       "\n",
       "    .dataframe thead th {\n",
       "        text-align: right;\n",
       "    }\n",
       "</style>\n",
       "<table border=\"1\" class=\"dataframe\">\n",
       "  <thead>\n",
       "    <tr style=\"text-align: right;\">\n",
       "      <th></th>\n",
       "      <th>movieId</th>\n",
       "      <th>title</th>\n",
       "      <th>genres</th>\n",
       "      <th>year</th>\n",
       "    </tr>\n",
       "  </thead>\n",
       "  <tbody>\n",
       "    <tr>\n",
       "      <th>293</th>\n",
       "      <td>296</td>\n",
       "      <td>Pulp Fiction</td>\n",
       "      <td>Comedy|Crime|Drama|Thriller</td>\n",
       "      <td>1994</td>\n",
       "    </tr>\n",
       "  </tbody>\n",
       "</table>\n",
       "</div>"
      ],
      "text/plain": [
       "     movieId         title                       genres  year\n",
       "293      296  Pulp Fiction  Comedy|Crime|Drama|Thriller  1994"
      ]
     },
     "execution_count": 41,
     "metadata": {},
     "output_type": "execute_result"
    }
   ],
   "source": [
    "movies.loc[movies.title == 'Pulp Fiction']"
   ]
  },
  {
   "cell_type": "code",
   "execution_count": 51,
   "metadata": {
    "ExecuteTime": {
     "end_time": "2019-03-29T17:44:08.815115Z",
     "start_time": "2019-03-29T17:44:08.793312Z"
    }
   },
   "outputs": [
    {
     "data": {
      "text/html": [
       "<div>\n",
       "<style scoped>\n",
       "    .dataframe tbody tr th:only-of-type {\n",
       "        vertical-align: middle;\n",
       "    }\n",
       "\n",
       "    .dataframe tbody tr th {\n",
       "        vertical-align: top;\n",
       "    }\n",
       "\n",
       "    .dataframe thead th {\n",
       "        text-align: right;\n",
       "    }\n",
       "</style>\n",
       "<table border=\"1\" class=\"dataframe\">\n",
       "  <thead>\n",
       "    <tr style=\"text-align: right;\">\n",
       "      <th></th>\n",
       "      <th>adult</th>\n",
       "      <th>genre_ids</th>\n",
       "      <th>id</th>\n",
       "      <th>original_language</th>\n",
       "      <th>original_title</th>\n",
       "      <th>overview</th>\n",
       "      <th>popularity</th>\n",
       "      <th>release_date</th>\n",
       "      <th>title</th>\n",
       "      <th>video</th>\n",
       "      <th>vote_average</th>\n",
       "      <th>vote_count</th>\n",
       "    </tr>\n",
       "  </thead>\n",
       "  <tbody>\n",
       "    <tr>\n",
       "      <th>293</th>\n",
       "      <td>False</td>\n",
       "      <td>[53, 80]</td>\n",
       "      <td>680</td>\n",
       "      <td>en</td>\n",
       "      <td>Pulp Fiction</td>\n",
       "      <td>A burger-loving hit man, his philosophical par...</td>\n",
       "      <td>29.059</td>\n",
       "      <td>1994-09-10</td>\n",
       "      <td>Pulp Fiction</td>\n",
       "      <td>False</td>\n",
       "      <td>8.4</td>\n",
       "      <td>14296</td>\n",
       "    </tr>\n",
       "  </tbody>\n",
       "</table>\n",
       "</div>"
      ],
      "text/plain": [
       "     adult genre_ids   id original_language original_title  \\\n",
       "293  False  [53, 80]  680                en   Pulp Fiction   \n",
       "\n",
       "                                              overview  popularity  \\\n",
       "293  A burger-loving hit man, his philosophical par...      29.059   \n",
       "\n",
       "    release_date         title  video  vote_average  vote_count  \n",
       "293   1994-09-10  Pulp Fiction  False           8.4       14296  "
      ]
     },
     "execution_count": 51,
     "metadata": {},
     "output_type": "execute_result"
    }
   ],
   "source": [
    "df_movies.loc[df_movies.original_title == 'Pulp Fiction']"
   ]
  },
  {
   "cell_type": "code",
   "execution_count": 49,
   "metadata": {
    "ExecuteTime": {
     "end_time": "2019-03-29T17:42:18.139484Z",
     "start_time": "2019-03-29T17:42:18.123620Z"
    }
   },
   "outputs": [],
   "source": [
    "genres_vals = df_movies.genre_ids.values\n",
    "genres_vals = [el for sub in genres_vals for el in sub]\n",
    "un_genre_vals = np.unique(genres_vals)"
   ]
  },
  {
   "cell_type": "code",
   "execution_count": 50,
   "metadata": {
    "ExecuteTime": {
     "end_time": "2019-03-29T17:42:26.310965Z",
     "start_time": "2019-03-29T17:42:26.307393Z"
    }
   },
   "outputs": [
    {
     "data": {
      "text/plain": [
       "array([   12,    14,    16,    18,    27,    28,    35,    36,    37,\n",
       "          53,    80,    99,   878,  9648, 10402, 10749, 10751, 10752,\n",
       "       10770])"
      ]
     },
     "execution_count": 50,
     "metadata": {},
     "output_type": "execute_result"
    }
   ],
   "source": [
    "un_genre_vals"
   ]
  },
  {
   "cell_type": "markdown",
   "metadata": {},
   "source": [
    "## problème rencontré en essayant de faire des dictionnaires Films: {actors} et Actors:{categories} :\n",
    "## Je ne comprends pas a quel genre correspond chaque genre_ids et comment trouver les films dans lesquels chaque acteur a jouer"
   ]
  },
  {
   "cell_type": "code",
   "execution_count": null,
   "metadata": {},
   "outputs": [],
   "source": []
  }
 ],
 "metadata": {
  "kernelspec": {
   "display_name": "Python 3",
   "language": "python",
   "name": "python3"
  },
  "language_info": {
   "codemirror_mode": {
    "name": "ipython",
    "version": 3
   },
   "file_extension": ".py",
   "mimetype": "text/x-python",
   "name": "python",
   "nbconvert_exporter": "python",
   "pygments_lexer": "ipython3",
   "version": "3.7.3"
  },
  "varInspector": {
   "cols": {
    "lenName": 16,
    "lenType": 16,
    "lenVar": 40
   },
   "kernels_config": {
    "python": {
     "delete_cmd_postfix": "",
     "delete_cmd_prefix": "del ",
     "library": "var_list.py",
     "varRefreshCmd": "print(var_dic_list())"
    },
    "r": {
     "delete_cmd_postfix": ") ",
     "delete_cmd_prefix": "rm(",
     "library": "var_list.r",
     "varRefreshCmd": "cat(var_dic_list()) "
    }
   },
   "types_to_exclude": [
    "module",
    "function",
    "builtin_function_or_method",
    "instance",
    "_Feature"
   ],
   "window_display": false
  }
 },
 "nbformat": 4,
 "nbformat_minor": 2
}
