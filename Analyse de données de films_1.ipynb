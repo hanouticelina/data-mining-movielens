{
 "cells": [
  {
   "cell_type": "markdown",
   "metadata": {},
   "source": [
    "# Analyse de données de films"
   ]
  },
  {
   "cell_type": "markdown",
   "metadata": {},
   "source": [
    "Nous proposons de travailler sur des données décrivant des films. Les possibilités sont larges et vous êtes évalués sur vos propositions et votre méthodologie plus que sur vos résultats.\n",
    "\n",
    "Les données de départ sont disponibles sur:\n",
    "https://grouplens.org/datasets/movielens/\n",
    "au format CSV. \n",
    "\n",
    "Nous nous intéresserons en particulier au jeu de données: **MovieLens 20M Dataset**. Dans ce jeu de données, vous disposez entre autre de:\n",
    "* Idendifiant du film dans IMdb et TMdb (ça sera important ensuite)\n",
    "* Catégorie(s) du film\n",
    "* Titre du film\n",
    "* Notes données par les internautes aux films\n",
    "\n",
    "Afin de rendre le projet plus intéressant, nous ajoutons des données sur les acteurs et producteurs associés aux films (récupéré sur TMdb). Ces données sont disponibles sur les liens suivants:\n",
    "\n",
    "http://webia.lip6.fr/~guigue/film_v2.pkl <br>\n",
    "http://webia.lip6.fr/~guigue/act_v2.pkl <br>\n",
    "http://webia.lip6.fr/~guigue/crew_v2.pkl\n",
    "\n",
    "Ces fichiers contiennent respectivement : une nouvelle description des films (dont l'identifiant TMdb et la note moyenne donnée par les internautes, la date de sortie,...), une description des acteurs de chaque film et une description des équipes (scénariste, producteur, metteur en scène) pour chaque film.\n",
    "\n",
    "Ces données sont des listes de taille 26908, chaque élément de la liste correspondant à un dictionnaire dont vous étudierez les clés pour récupérer les informations utiles.\n",
    "\n",
    "**ATTENTION** Les contraintes de récupération d'informations en ligne font que la base MovieLens compte 27278 films mais les fichiers ci-dessus n'en comptent que 26908. Le plus simple est probablement d'éliminer les films de MovieLens qui ne sont pas dans cette seconde base."
   ]
  },
  {
   "cell_type": "markdown",
   "metadata": {},
   "source": [
    "## Consignes générales pour l'analyse des données\n",
    "\n",
    "Vous devez proposer plusieurs analyses des données, qui devront à minima utiliser les\n",
    " techniques suivantes:\n",
    " \n",
    "1. Mettre en forme les données pour identifier les acteurs et les catégories, les indexer\n",
    "1. Traiter au moins un problème de régression supervisé (par exemple la prédiction de la note moyenne donnée à un film par les internautes).\n",
    "1. Traiter au moins un problème de classification supervisé (par exemple la prédiction de la catégorie d'un film)\n",
    "1. Utiliser les données catégorielles (catégories, acteurs,...) de manière discrète ET de manière coninue (*dummy coding*) dans des approches différentes\n",
    "1. Proposer au moins une approche de catégorisation non supervisée (pour regrouper les acteurs par exemple)\n",
    "1. Mener une campagne d'expérience permettant de comparer les performances sur un problème en fonction des valeurs d'un paramètre (et donc, in fine, trouver la meilleure valeur du paramètre)\n",
    "1. Proposer quelques illustrations"
   ]
  },
  {
   "cell_type": "code",
   "execution_count": 6,
   "metadata": {},
   "outputs": [],
   "source": [
    "import numpy as np\n",
    "import pandas as pd\n",
    "import matplotlib.pyplot as plt\n",
    "%matplotlib inline\n",
    "import pickle as pkl\n"
   ]
  },
  {
   "cell_type": "markdown",
   "metadata": {},
   "source": [
    "## Chargement des données (base MovieLens + enrichissements)"
   ]
  },
  {
   "cell_type": "code",
   "execution_count": 7,
   "metadata": {},
   "outputs": [],
   "source": [
    "fname = \"act_v2.pkl\"\n",
    "acteurs = pkl.load(open(fname, \"rb\"))\n",
    "fname = \"film_v2.pkl\" \n",
    "movie_bis = pkl.load(open(fname, \"rb\"))\n",
    "fname = \"crew_v2.pkl\" \n",
    "crew = pkl.load(open(fname, \"rb\"))"
   ]
  },
  {
   "cell_type": "code",
   "execution_count": 8,
   "metadata": {},
   "outputs": [],
   "source": [
    "movies = pd.DataFrame(data=pd.read_csv(\"ml-20m/movies.csv\", sep=\",\"))\n",
    "scores = pd.DataFrame(data=pd.read_csv(\"ml-20m/genome-scores.csv\", sep=\",\"))\n",
    "ratings = pd.DataFrame(data=pd.read_csv(\"ml-20m/ratings.csv\", sep=\",\"))\n",
    "links = pd.DataFrame(data=pd.read_csv(\"ml-20m/links.csv\", sep=\",\"))\n",
    "tags = pd.DataFrame(data=pd.read_csv(\"ml-20m/tags.csv\", sep=\",\"))\n",
    "genome_tags =pd.DataFrame(data=pd.read_csv(\"ml-20m/genome-tags.csv\", sep=\",\"))"
   ]
  },
  {
   "cell_type": "code",
   "execution_count": 34,
   "metadata": {},
   "outputs": [
    {
     "data": {
      "text/html": [
       "<div>\n",
       "<style scoped>\n",
       "    .dataframe tbody tr th:only-of-type {\n",
       "        vertical-align: middle;\n",
       "    }\n",
       "\n",
       "    .dataframe tbody tr th {\n",
       "        vertical-align: top;\n",
       "    }\n",
       "\n",
       "    .dataframe thead th {\n",
       "        text-align: right;\n",
       "    }\n",
       "</style>\n",
       "<table border=\"1\" class=\"dataframe\">\n",
       "  <thead>\n",
       "    <tr style=\"text-align: right;\">\n",
       "      <th></th>\n",
       "      <th>movieId</th>\n",
       "      <th>tagId</th>\n",
       "      <th>relevance</th>\n",
       "    </tr>\n",
       "  </thead>\n",
       "  <tbody>\n",
       "    <tr>\n",
       "      <th>count</th>\n",
       "      <td>1.170977e+07</td>\n",
       "      <td>1.170977e+07</td>\n",
       "      <td>1.170977e+07</td>\n",
       "    </tr>\n",
       "    <tr>\n",
       "      <th>mean</th>\n",
       "      <td>2.584297e+04</td>\n",
       "      <td>5.645000e+02</td>\n",
       "      <td>1.164833e-01</td>\n",
       "    </tr>\n",
       "    <tr>\n",
       "      <th>std</th>\n",
       "      <td>3.467615e+04</td>\n",
       "      <td>3.256254e+02</td>\n",
       "      <td>1.542463e-01</td>\n",
       "    </tr>\n",
       "    <tr>\n",
       "      <th>min</th>\n",
       "      <td>1.000000e+00</td>\n",
       "      <td>1.000000e+00</td>\n",
       "      <td>2.500000e-04</td>\n",
       "    </tr>\n",
       "    <tr>\n",
       "      <th>25%</th>\n",
       "      <td>2.926000e+03</td>\n",
       "      <td>2.827500e+02</td>\n",
       "      <td>2.425000e-02</td>\n",
       "    </tr>\n",
       "    <tr>\n",
       "      <th>50%</th>\n",
       "      <td>6.017000e+03</td>\n",
       "      <td>5.645000e+02</td>\n",
       "      <td>5.650000e-02</td>\n",
       "    </tr>\n",
       "    <tr>\n",
       "      <th>75%</th>\n",
       "      <td>4.606200e+04</td>\n",
       "      <td>8.462500e+02</td>\n",
       "      <td>1.415000e-01</td>\n",
       "    </tr>\n",
       "    <tr>\n",
       "      <th>max</th>\n",
       "      <td>1.311700e+05</td>\n",
       "      <td>1.128000e+03</td>\n",
       "      <td>1.000000e+00</td>\n",
       "    </tr>\n",
       "  </tbody>\n",
       "</table>\n",
       "</div>"
      ],
      "text/plain": [
       "            movieId         tagId     relevance\n",
       "count  1.170977e+07  1.170977e+07  1.170977e+07\n",
       "mean   2.584297e+04  5.645000e+02  1.164833e-01\n",
       "std    3.467615e+04  3.256254e+02  1.542463e-01\n",
       "min    1.000000e+00  1.000000e+00  2.500000e-04\n",
       "25%    2.926000e+03  2.827500e+02  2.425000e-02\n",
       "50%    6.017000e+03  5.645000e+02  5.650000e-02\n",
       "75%    4.606200e+04  8.462500e+02  1.415000e-01\n",
       "max    1.311700e+05  1.128000e+03  1.000000e+00"
      ]
     },
     "execution_count": 34,
     "metadata": {},
     "output_type": "execute_result"
    }
   ],
   "source": [
    "scores.describe()"
   ]
  },
  {
   "cell_type": "code",
   "execution_count": 9,
   "metadata": {},
   "outputs": [],
   "source": [
    "import itertools\n",
    "merged_actors = list(itertools.chain(*acteurs))\n",
    "merged_crew =  list(itertools.chain(*crew))"
   ]
  },
  {
   "cell_type": "code",
   "execution_count": 10,
   "metadata": {},
   "outputs": [],
   "source": [
    "df_actors = pd.DataFrame(merged_actors)\n",
    "df_crew = pd.DataFrame(merged_crew)\n",
    "df_movies = pd.DataFrame(movie_bis)"
   ]
  },
  {
   "cell_type": "code",
   "execution_count": 11,
   "metadata": {},
   "outputs": [],
   "source": [
    "df_actors.drop(['profile_path'], inplace=True, axis=1)\n",
    "df_crew.drop(['profile_path'], inplace=True, axis=1)\n",
    "df_movies.drop(['backdrop_path'], inplace=True, axis=1)\n",
    "df_movies.drop(['poster_path'], inplace=True, axis=1)"
   ]
  },
  {
   "cell_type": "code",
   "execution_count": 14,
   "metadata": {},
   "outputs": [
    {
     "name": "stdout",
     "output_type": "stream",
     "text": [
      "adult                0\n",
      "genre_ids            0\n",
      "id                   0\n",
      "original_language    0\n",
      "original_title       0\n",
      "overview             0\n",
      "popularity           0\n",
      "release_date         0\n",
      "title                0\n",
      "video                0\n",
      "vote_average         0\n",
      "vote_count           0\n",
      "dtype: int64\n",
      "credit_id     0\n",
      "department    0\n",
      "gender        0\n",
      "id            0\n",
      "job           0\n",
      "name          0\n",
      "dtype: int64\n",
      "cast_id      0\n",
      "character    0\n",
      "credit_id    0\n",
      "gender       0\n",
      "id           0\n",
      "name         0\n",
      "order        0\n",
      "dtype: int64\n"
     ]
    }
   ],
   "source": [
    "print(df_movies.isnull().sum())\n",
    "print(df_crew.isnull().sum())\n",
    "print(df_actors.isnull().sum())"
   ]
  },
  {
   "cell_type": "code",
   "execution_count": 13,
   "metadata": {},
   "outputs": [],
   "source": [
    "df_movies.dropna(inplace=True)"
   ]
  },
  {
   "cell_type": "code",
   "execution_count": 15,
   "metadata": {},
   "outputs": [],
   "source": [
    "movies['year'] = movies.title.str.extract(\"\\((\\d{4})\\)\", expand=True)\n",
    "movies['title'] = movies.title.str.replace(\"\\((\\d{4})\\)\",\"\")"
   ]
  },
  {
   "cell_type": "code",
   "execution_count": 16,
   "metadata": {},
   "outputs": [
    {
     "data": {
      "text/html": [
       "<div>\n",
       "<style scoped>\n",
       "    .dataframe tbody tr th:only-of-type {\n",
       "        vertical-align: middle;\n",
       "    }\n",
       "\n",
       "    .dataframe tbody tr th {\n",
       "        vertical-align: top;\n",
       "    }\n",
       "\n",
       "    .dataframe thead th {\n",
       "        text-align: right;\n",
       "    }\n",
       "</style>\n",
       "<table border=\"1\" class=\"dataframe\">\n",
       "  <thead>\n",
       "    <tr style=\"text-align: right;\">\n",
       "      <th></th>\n",
       "      <th>movieId</th>\n",
       "      <th>title</th>\n",
       "      <th>genres</th>\n",
       "      <th>year</th>\n",
       "    </tr>\n",
       "  </thead>\n",
       "  <tbody>\n",
       "    <tr>\n",
       "      <th>0</th>\n",
       "      <td>1</td>\n",
       "      <td>Toy Story</td>\n",
       "      <td>Adventure|Animation|Children|Comedy|Fantasy</td>\n",
       "      <td>1995</td>\n",
       "    </tr>\n",
       "    <tr>\n",
       "      <th>1</th>\n",
       "      <td>2</td>\n",
       "      <td>Jumanji</td>\n",
       "      <td>Adventure|Children|Fantasy</td>\n",
       "      <td>1995</td>\n",
       "    </tr>\n",
       "    <tr>\n",
       "      <th>2</th>\n",
       "      <td>3</td>\n",
       "      <td>Grumpier Old Men</td>\n",
       "      <td>Comedy|Romance</td>\n",
       "      <td>1995</td>\n",
       "    </tr>\n",
       "    <tr>\n",
       "      <th>3</th>\n",
       "      <td>4</td>\n",
       "      <td>Waiting to Exhale</td>\n",
       "      <td>Comedy|Drama|Romance</td>\n",
       "      <td>1995</td>\n",
       "    </tr>\n",
       "    <tr>\n",
       "      <th>4</th>\n",
       "      <td>5</td>\n",
       "      <td>Father of the Bride Part II</td>\n",
       "      <td>Comedy</td>\n",
       "      <td>1995</td>\n",
       "    </tr>\n",
       "  </tbody>\n",
       "</table>\n",
       "</div>"
      ],
      "text/plain": [
       "   movieId                         title  \\\n",
       "0        1                    Toy Story    \n",
       "1        2                      Jumanji    \n",
       "2        3             Grumpier Old Men    \n",
       "3        4            Waiting to Exhale    \n",
       "4        5  Father of the Bride Part II    \n",
       "\n",
       "                                        genres  year  \n",
       "0  Adventure|Animation|Children|Comedy|Fantasy  1995  \n",
       "1                   Adventure|Children|Fantasy  1995  \n",
       "2                               Comedy|Romance  1995  \n",
       "3                         Comedy|Drama|Romance  1995  \n",
       "4                                       Comedy  1995  "
      ]
     },
     "execution_count": 16,
     "metadata": {},
     "output_type": "execute_result"
    }
   ],
   "source": [
    "movies.head()"
   ]
  },
  {
   "cell_type": "code",
   "execution_count": 18,
   "metadata": {},
   "outputs": [
    {
     "name": "stdout",
     "output_type": "stream",
     "text": [
      "movieId     0\n",
      "title       0\n",
      "genres      0\n",
      "year       22\n",
      "dtype: int64\n"
     ]
    }
   ],
   "source": [
    "print(movies.isnull().sum())"
   ]
  },
  {
   "cell_type": "code",
   "execution_count": 23,
   "metadata": {},
   "outputs": [
    {
     "name": "stdout",
     "output_type": "stream",
     "text": [
      "userId        0\n",
      "movieId       0\n",
      "tag          16\n",
      "timestamp     0\n",
      "dtype: int64\n"
     ]
    }
   ],
   "source": [
    "print(tags.isnull().sum())"
   ]
  },
  {
   "cell_type": "code",
   "execution_count": 24,
   "metadata": {},
   "outputs": [],
   "source": [
    "movies.dropna(inplace=True)\n",
    "tags.dropna(inplace=True)"
   ]
  },
  {
   "cell_type": "code",
   "execution_count": 26,
   "metadata": {},
   "outputs": [],
   "source": [
    "ratings[\"timestamp\"] =pd.to_datetime(ratings[\"timestamp\"], unit='s')\n",
    "ratings[\"timestamp\"] = ratings[\"timestamp\"].dt.date"
   ]
  },
  {
   "cell_type": "code",
   "execution_count": 28,
   "metadata": {},
   "outputs": [
    {
     "data": {
      "text/html": [
       "<div>\n",
       "<style scoped>\n",
       "    .dataframe tbody tr th:only-of-type {\n",
       "        vertical-align: middle;\n",
       "    }\n",
       "\n",
       "    .dataframe tbody tr th {\n",
       "        vertical-align: top;\n",
       "    }\n",
       "\n",
       "    .dataframe thead th {\n",
       "        text-align: right;\n",
       "    }\n",
       "</style>\n",
       "<table border=\"1\" class=\"dataframe\">\n",
       "  <thead>\n",
       "    <tr style=\"text-align: right;\">\n",
       "      <th></th>\n",
       "      <th>userId</th>\n",
       "      <th>movieId</th>\n",
       "      <th>rating</th>\n",
       "      <th>timestamp</th>\n",
       "    </tr>\n",
       "  </thead>\n",
       "  <tbody>\n",
       "    <tr>\n",
       "      <th>20000258</th>\n",
       "      <td>138493</td>\n",
       "      <td>68954</td>\n",
       "      <td>4.5</td>\n",
       "      <td>2009-11-13</td>\n",
       "    </tr>\n",
       "    <tr>\n",
       "      <th>20000259</th>\n",
       "      <td>138493</td>\n",
       "      <td>69526</td>\n",
       "      <td>4.5</td>\n",
       "      <td>2009-12-03</td>\n",
       "    </tr>\n",
       "    <tr>\n",
       "      <th>20000260</th>\n",
       "      <td>138493</td>\n",
       "      <td>69644</td>\n",
       "      <td>3.0</td>\n",
       "      <td>2009-12-07</td>\n",
       "    </tr>\n",
       "    <tr>\n",
       "      <th>20000261</th>\n",
       "      <td>138493</td>\n",
       "      <td>70286</td>\n",
       "      <td>5.0</td>\n",
       "      <td>2009-11-13</td>\n",
       "    </tr>\n",
       "    <tr>\n",
       "      <th>20000262</th>\n",
       "      <td>138493</td>\n",
       "      <td>71619</td>\n",
       "      <td>2.5</td>\n",
       "      <td>2009-10-17</td>\n",
       "    </tr>\n",
       "  </tbody>\n",
       "</table>\n",
       "</div>"
      ],
      "text/plain": [
       "          userId  movieId  rating   timestamp\n",
       "20000258  138493    68954     4.5  2009-11-13\n",
       "20000259  138493    69526     4.5  2009-12-03\n",
       "20000260  138493    69644     3.0  2009-12-07\n",
       "20000261  138493    70286     5.0  2009-11-13\n",
       "20000262  138493    71619     2.5  2009-10-17"
      ]
     },
     "execution_count": 28,
     "metadata": {},
     "output_type": "execute_result"
    }
   ],
   "source": [
    "ratings.tail()"
   ]
  },
  {
   "cell_type": "code",
   "execution_count": 35,
   "metadata": {},
   "outputs": [],
   "source": [
    "movies.sort_values(by='movieId', inplace=True)\n",
    "ratings.sort_values(by='movieId', inplace=True)\n",
    "tags.sort_values(by='movieId', inplace=True)\n",
    "links.sort_values(by='movieId', inplace=True)\n",
    "scores.sort_values(by='movieId', inplace=True)\n"
   ]
  },
  {
   "cell_type": "code",
   "execution_count": 43,
   "metadata": {},
   "outputs": [],
   "source": [
    "df = pd.merge(movies,ratings,on='movieId')"
   ]
  },
  {
   "cell_type": "code",
   "execution_count": 44,
   "metadata": {},
   "outputs": [
    {
     "data": {
      "text/html": [
       "<div>\n",
       "<style scoped>\n",
       "    .dataframe tbody tr th:only-of-type {\n",
       "        vertical-align: middle;\n",
       "    }\n",
       "\n",
       "    .dataframe tbody tr th {\n",
       "        vertical-align: top;\n",
       "    }\n",
       "\n",
       "    .dataframe thead th {\n",
       "        text-align: right;\n",
       "    }\n",
       "</style>\n",
       "<table border=\"1\" class=\"dataframe\">\n",
       "  <thead>\n",
       "    <tr style=\"text-align: right;\">\n",
       "      <th></th>\n",
       "      <th>movieId</th>\n",
       "      <th>title</th>\n",
       "      <th>genres</th>\n",
       "      <th>year</th>\n",
       "      <th>userId</th>\n",
       "      <th>rating</th>\n",
       "      <th>timestamp</th>\n",
       "    </tr>\n",
       "  </thead>\n",
       "  <tbody>\n",
       "    <tr>\n",
       "      <th>0</th>\n",
       "      <td>1</td>\n",
       "      <td>Toy Story</td>\n",
       "      <td>Adventure|Animation|Children|Comedy|Fantasy</td>\n",
       "      <td>1995</td>\n",
       "      <td>97809</td>\n",
       "      <td>3.0</td>\n",
       "      <td>2008-06-11</td>\n",
       "    </tr>\n",
       "    <tr>\n",
       "      <th>1</th>\n",
       "      <td>1</td>\n",
       "      <td>Toy Story</td>\n",
       "      <td>Adventure|Animation|Children|Comedy|Fantasy</td>\n",
       "      <td>1995</td>\n",
       "      <td>106140</td>\n",
       "      <td>5.0</td>\n",
       "      <td>2013-01-29</td>\n",
       "    </tr>\n",
       "    <tr>\n",
       "      <th>2</th>\n",
       "      <td>1</td>\n",
       "      <td>Toy Story</td>\n",
       "      <td>Adventure|Animation|Children|Comedy|Fantasy</td>\n",
       "      <td>1995</td>\n",
       "      <td>106138</td>\n",
       "      <td>3.0</td>\n",
       "      <td>2002-07-31</td>\n",
       "    </tr>\n",
       "    <tr>\n",
       "      <th>3</th>\n",
       "      <td>1</td>\n",
       "      <td>Toy Story</td>\n",
       "      <td>Adventure|Animation|Children|Comedy|Fantasy</td>\n",
       "      <td>1995</td>\n",
       "      <td>70354</td>\n",
       "      <td>4.5</td>\n",
       "      <td>2011-02-13</td>\n",
       "    </tr>\n",
       "    <tr>\n",
       "      <th>4</th>\n",
       "      <td>1</td>\n",
       "      <td>Toy Story</td>\n",
       "      <td>Adventure|Animation|Children|Comedy|Fantasy</td>\n",
       "      <td>1995</td>\n",
       "      <td>70355</td>\n",
       "      <td>3.5</td>\n",
       "      <td>2008-01-26</td>\n",
       "    </tr>\n",
       "  </tbody>\n",
       "</table>\n",
       "</div>"
      ],
      "text/plain": [
       "   movieId       title                                       genres  year  \\\n",
       "0        1  Toy Story   Adventure|Animation|Children|Comedy|Fantasy  1995   \n",
       "1        1  Toy Story   Adventure|Animation|Children|Comedy|Fantasy  1995   \n",
       "2        1  Toy Story   Adventure|Animation|Children|Comedy|Fantasy  1995   \n",
       "3        1  Toy Story   Adventure|Animation|Children|Comedy|Fantasy  1995   \n",
       "4        1  Toy Story   Adventure|Animation|Children|Comedy|Fantasy  1995   \n",
       "\n",
       "   userId  rating   timestamp  \n",
       "0   97809     3.0  2008-06-11  \n",
       "1  106140     5.0  2013-01-29  \n",
       "2  106138     3.0  2002-07-31  \n",
       "3   70354     4.5  2011-02-13  \n",
       "4   70355     3.5  2008-01-26  "
      ]
     },
     "execution_count": 44,
     "metadata": {},
     "output_type": "execute_result"
    }
   ],
   "source": [
    "df.head()"
   ]
  },
  {
   "cell_type": "code",
   "execution_count": 45,
   "metadata": {},
   "outputs": [],
   "source": [
    "ratingCount = pd.DataFrame(df.groupby('title', as_index = False)['rating'].count().rename(columns={'rating' : 'ratingCount'}))"
   ]
  },
  {
   "cell_type": "code",
   "execution_count": 47,
   "metadata": {},
   "outputs": [
    {
     "data": {
      "text/html": [
       "<div>\n",
       "<style scoped>\n",
       "    .dataframe tbody tr th:only-of-type {\n",
       "        vertical-align: middle;\n",
       "    }\n",
       "\n",
       "    .dataframe tbody tr th {\n",
       "        vertical-align: top;\n",
       "    }\n",
       "\n",
       "    .dataframe thead th {\n",
       "        text-align: right;\n",
       "    }\n",
       "</style>\n",
       "<table border=\"1\" class=\"dataframe\">\n",
       "  <thead>\n",
       "    <tr style=\"text-align: right;\">\n",
       "      <th></th>\n",
       "      <th>title</th>\n",
       "      <th>ratingCount</th>\n",
       "    </tr>\n",
       "  </thead>\n",
       "  <tbody>\n",
       "    <tr>\n",
       "      <th>18075</th>\n",
       "      <td>Pulp Fiction</td>\n",
       "      <td>67310</td>\n",
       "    </tr>\n",
       "    <tr>\n",
       "      <th>8387</th>\n",
       "      <td>Forrest Gump</td>\n",
       "      <td>66172</td>\n",
       "    </tr>\n",
       "    <tr>\n",
       "      <th>19948</th>\n",
       "      <td>Shawshank Redemption, The</td>\n",
       "      <td>63366</td>\n",
       "    </tr>\n",
       "    <tr>\n",
       "      <th>20155</th>\n",
       "      <td>Silence of the Lambs, The</td>\n",
       "      <td>63299</td>\n",
       "    </tr>\n",
       "    <tr>\n",
       "      <th>12138</th>\n",
       "      <td>Jurassic Park</td>\n",
       "      <td>59715</td>\n",
       "    </tr>\n",
       "  </tbody>\n",
       "</table>\n",
       "</div>"
      ],
      "text/plain": [
       "                            title  ratingCount\n",
       "18075               Pulp Fiction         67310\n",
       "8387                Forrest Gump         66172\n",
       "19948  Shawshank Redemption, The         63366\n",
       "20155  Silence of the Lambs, The         63299\n",
       "12138              Jurassic Park         59715"
      ]
     },
     "execution_count": 47,
     "metadata": {},
     "output_type": "execute_result"
    }
   ],
   "source": [
    "ratingCount.sort_values('ratingCount',ascending=False).head()"
   ]
  },
  {
   "cell_type": "code",
   "execution_count": 50,
   "metadata": {},
   "outputs": [
    {
     "data": {
      "text/html": [
       "<div>\n",
       "<style scoped>\n",
       "    .dataframe tbody tr th:only-of-type {\n",
       "        vertical-align: middle;\n",
       "    }\n",
       "\n",
       "    .dataframe tbody tr th {\n",
       "        vertical-align: top;\n",
       "    }\n",
       "\n",
       "    .dataframe thead th {\n",
       "        text-align: right;\n",
       "    }\n",
       "</style>\n",
       "<table border=\"1\" class=\"dataframe\">\n",
       "  <thead>\n",
       "    <tr style=\"text-align: right;\">\n",
       "      <th></th>\n",
       "      <th>title</th>\n",
       "      <th>ratingMean</th>\n",
       "    </tr>\n",
       "  </thead>\n",
       "  <tbody>\n",
       "    <tr>\n",
       "      <th>3099</th>\n",
       "      <td>Bo Burnham: Words, Words, Words</td>\n",
       "      <td>5.0</td>\n",
       "    </tr>\n",
       "    <tr>\n",
       "      <th>11454</th>\n",
       "      <td>Inquire Within</td>\n",
       "      <td>5.0</td>\n",
       "    </tr>\n",
       "    <tr>\n",
       "      <th>25414</th>\n",
       "      <td>Year Zero: The Silent Death of Cambodia</td>\n",
       "      <td>5.0</td>\n",
       "    </tr>\n",
       "    <tr>\n",
       "      <th>134</th>\n",
       "      <td>1971</td>\n",
       "      <td>5.0</td>\n",
       "    </tr>\n",
       "    <tr>\n",
       "      <th>22308</th>\n",
       "      <td>The Encounter</td>\n",
       "      <td>5.0</td>\n",
       "    </tr>\n",
       "  </tbody>\n",
       "</table>\n",
       "</div>"
      ],
      "text/plain": [
       "                                          title  ratingMean\n",
       "3099           Bo Burnham: Words, Words, Words          5.0\n",
       "11454                           Inquire Within          5.0\n",
       "25414  Year Zero: The Silent Death of Cambodia          5.0\n",
       "134                                       1971          5.0\n",
       "22308                            The Encounter          5.0"
      ]
     },
     "execution_count": 50,
     "metadata": {},
     "output_type": "execute_result"
    }
   ],
   "source": [
    "ratingMean = pd.DataFrame(df.groupby('title', as_index = False)['rating'].mean().rename(columns={'rating' : 'ratingMean'}))\n",
    "ratingMean.sort_values('ratingMean',ascending=False).head(5)"
   ]
  },
  {
   "cell_type": "code",
   "execution_count": 51,
   "metadata": {},
   "outputs": [
    {
     "data": {
      "text/html": [
       "<div>\n",
       "<style scoped>\n",
       "    .dataframe tbody tr th:only-of-type {\n",
       "        vertical-align: middle;\n",
       "    }\n",
       "\n",
       "    .dataframe tbody tr th {\n",
       "        vertical-align: top;\n",
       "    }\n",
       "\n",
       "    .dataframe thead th {\n",
       "        text-align: right;\n",
       "    }\n",
       "</style>\n",
       "<table border=\"1\" class=\"dataframe\">\n",
       "  <thead>\n",
       "    <tr style=\"text-align: right;\">\n",
       "      <th></th>\n",
       "      <th>title</th>\n",
       "      <th>ratingCount</th>\n",
       "      <th>ratingMean</th>\n",
       "    </tr>\n",
       "  </thead>\n",
       "  <tbody>\n",
       "    <tr>\n",
       "      <th>18075</th>\n",
       "      <td>Pulp Fiction</td>\n",
       "      <td>67310</td>\n",
       "      <td>4.174231</td>\n",
       "    </tr>\n",
       "    <tr>\n",
       "      <th>8387</th>\n",
       "      <td>Forrest Gump</td>\n",
       "      <td>66172</td>\n",
       "      <td>4.029000</td>\n",
       "    </tr>\n",
       "    <tr>\n",
       "      <th>19948</th>\n",
       "      <td>Shawshank Redemption, The</td>\n",
       "      <td>63366</td>\n",
       "      <td>4.446990</td>\n",
       "    </tr>\n",
       "    <tr>\n",
       "      <th>20155</th>\n",
       "      <td>Silence of the Lambs, The</td>\n",
       "      <td>63299</td>\n",
       "      <td>4.177057</td>\n",
       "    </tr>\n",
       "    <tr>\n",
       "      <th>12138</th>\n",
       "      <td>Jurassic Park</td>\n",
       "      <td>59715</td>\n",
       "      <td>3.664741</td>\n",
       "    </tr>\n",
       "  </tbody>\n",
       "</table>\n",
       "</div>"
      ],
      "text/plain": [
       "                            title  ratingCount  ratingMean\n",
       "18075               Pulp Fiction         67310    4.174231\n",
       "8387                Forrest Gump         66172    4.029000\n",
       "19948  Shawshank Redemption, The         63366    4.446990\n",
       "20155  Silence of the Lambs, The         63299    4.177057\n",
       "12138              Jurassic Park         59715    3.664741"
      ]
     },
     "execution_count": 51,
     "metadata": {},
     "output_type": "execute_result"
    }
   ],
   "source": [
    "ratings_count_mean = pd.merge(ratingCount,ratingMean, on='title')\n",
    "ratings_count_mean.sort_values('ratingCount',ascending=False).head(5)"
   ]
  },
  {
   "cell_type": "code",
   "execution_count": 55,
   "metadata": {},
   "outputs": [],
   "source": [
    "genres_unique = pd.DataFrame(movies.genres.str.split('|').tolist()).stack().unique()\n",
    "genres_unique = pd.DataFrame(genres_unique, columns=['genre'])"
   ]
  },
  {
   "cell_type": "code",
   "execution_count": 56,
   "metadata": {},
   "outputs": [
    {
     "data": {
      "text/html": [
       "<div>\n",
       "<style scoped>\n",
       "    .dataframe tbody tr th:only-of-type {\n",
       "        vertical-align: middle;\n",
       "    }\n",
       "\n",
       "    .dataframe tbody tr th {\n",
       "        vertical-align: top;\n",
       "    }\n",
       "\n",
       "    .dataframe thead th {\n",
       "        text-align: right;\n",
       "    }\n",
       "</style>\n",
       "<table border=\"1\" class=\"dataframe\">\n",
       "  <thead>\n",
       "    <tr style=\"text-align: right;\">\n",
       "      <th></th>\n",
       "      <th>genre</th>\n",
       "    </tr>\n",
       "  </thead>\n",
       "  <tbody>\n",
       "    <tr>\n",
       "      <th>0</th>\n",
       "      <td>Adventure</td>\n",
       "    </tr>\n",
       "    <tr>\n",
       "      <th>1</th>\n",
       "      <td>Animation</td>\n",
       "    </tr>\n",
       "    <tr>\n",
       "      <th>2</th>\n",
       "      <td>Children</td>\n",
       "    </tr>\n",
       "    <tr>\n",
       "      <th>3</th>\n",
       "      <td>Comedy</td>\n",
       "    </tr>\n",
       "    <tr>\n",
       "      <th>4</th>\n",
       "      <td>Fantasy</td>\n",
       "    </tr>\n",
       "  </tbody>\n",
       "</table>\n",
       "</div>"
      ],
      "text/plain": [
       "       genre\n",
       "0  Adventure\n",
       "1  Animation\n",
       "2   Children\n",
       "3     Comedy\n",
       "4    Fantasy"
      ]
     },
     "execution_count": 56,
     "metadata": {},
     "output_type": "execute_result"
    }
   ],
   "source": [
    "genres_unique.head()"
   ]
  },
  {
   "cell_type": "code",
   "execution_count": 60,
   "metadata": {},
   "outputs": [],
   "source": [
    "movies_genres = movies.join(movies.genres.str.get_dummies().astype(bool))\n",
    "movies_genres.drop('genres', inplace=True, axis=1)"
   ]
  },
  {
   "cell_type": "code",
   "execution_count": 61,
   "metadata": {},
   "outputs": [
    {
     "data": {
      "text/html": [
       "<div>\n",
       "<style scoped>\n",
       "    .dataframe tbody tr th:only-of-type {\n",
       "        vertical-align: middle;\n",
       "    }\n",
       "\n",
       "    .dataframe tbody tr th {\n",
       "        vertical-align: top;\n",
       "    }\n",
       "\n",
       "    .dataframe thead th {\n",
       "        text-align: right;\n",
       "    }\n",
       "</style>\n",
       "<table border=\"1\" class=\"dataframe\">\n",
       "  <thead>\n",
       "    <tr style=\"text-align: right;\">\n",
       "      <th></th>\n",
       "      <th>movieId</th>\n",
       "      <th>title</th>\n",
       "      <th>year</th>\n",
       "      <th>(no genres listed)</th>\n",
       "      <th>Action</th>\n",
       "      <th>Adventure</th>\n",
       "      <th>Animation</th>\n",
       "      <th>Children</th>\n",
       "      <th>Comedy</th>\n",
       "      <th>Crime</th>\n",
       "      <th>...</th>\n",
       "      <th>Film-Noir</th>\n",
       "      <th>Horror</th>\n",
       "      <th>IMAX</th>\n",
       "      <th>Musical</th>\n",
       "      <th>Mystery</th>\n",
       "      <th>Romance</th>\n",
       "      <th>Sci-Fi</th>\n",
       "      <th>Thriller</th>\n",
       "      <th>War</th>\n",
       "      <th>Western</th>\n",
       "    </tr>\n",
       "  </thead>\n",
       "  <tbody>\n",
       "    <tr>\n",
       "      <th>0</th>\n",
       "      <td>1</td>\n",
       "      <td>Toy Story</td>\n",
       "      <td>1995</td>\n",
       "      <td>False</td>\n",
       "      <td>False</td>\n",
       "      <td>True</td>\n",
       "      <td>True</td>\n",
       "      <td>True</td>\n",
       "      <td>True</td>\n",
       "      <td>False</td>\n",
       "      <td>...</td>\n",
       "      <td>False</td>\n",
       "      <td>False</td>\n",
       "      <td>False</td>\n",
       "      <td>False</td>\n",
       "      <td>False</td>\n",
       "      <td>False</td>\n",
       "      <td>False</td>\n",
       "      <td>False</td>\n",
       "      <td>False</td>\n",
       "      <td>False</td>\n",
       "    </tr>\n",
       "    <tr>\n",
       "      <th>1</th>\n",
       "      <td>2</td>\n",
       "      <td>Jumanji</td>\n",
       "      <td>1995</td>\n",
       "      <td>False</td>\n",
       "      <td>False</td>\n",
       "      <td>True</td>\n",
       "      <td>False</td>\n",
       "      <td>True</td>\n",
       "      <td>False</td>\n",
       "      <td>False</td>\n",
       "      <td>...</td>\n",
       "      <td>False</td>\n",
       "      <td>False</td>\n",
       "      <td>False</td>\n",
       "      <td>False</td>\n",
       "      <td>False</td>\n",
       "      <td>False</td>\n",
       "      <td>False</td>\n",
       "      <td>False</td>\n",
       "      <td>False</td>\n",
       "      <td>False</td>\n",
       "    </tr>\n",
       "    <tr>\n",
       "      <th>2</th>\n",
       "      <td>3</td>\n",
       "      <td>Grumpier Old Men</td>\n",
       "      <td>1995</td>\n",
       "      <td>False</td>\n",
       "      <td>False</td>\n",
       "      <td>False</td>\n",
       "      <td>False</td>\n",
       "      <td>False</td>\n",
       "      <td>True</td>\n",
       "      <td>False</td>\n",
       "      <td>...</td>\n",
       "      <td>False</td>\n",
       "      <td>False</td>\n",
       "      <td>False</td>\n",
       "      <td>False</td>\n",
       "      <td>False</td>\n",
       "      <td>True</td>\n",
       "      <td>False</td>\n",
       "      <td>False</td>\n",
       "      <td>False</td>\n",
       "      <td>False</td>\n",
       "    </tr>\n",
       "    <tr>\n",
       "      <th>3</th>\n",
       "      <td>4</td>\n",
       "      <td>Waiting to Exhale</td>\n",
       "      <td>1995</td>\n",
       "      <td>False</td>\n",
       "      <td>False</td>\n",
       "      <td>False</td>\n",
       "      <td>False</td>\n",
       "      <td>False</td>\n",
       "      <td>True</td>\n",
       "      <td>False</td>\n",
       "      <td>...</td>\n",
       "      <td>False</td>\n",
       "      <td>False</td>\n",
       "      <td>False</td>\n",
       "      <td>False</td>\n",
       "      <td>False</td>\n",
       "      <td>True</td>\n",
       "      <td>False</td>\n",
       "      <td>False</td>\n",
       "      <td>False</td>\n",
       "      <td>False</td>\n",
       "    </tr>\n",
       "    <tr>\n",
       "      <th>4</th>\n",
       "      <td>5</td>\n",
       "      <td>Father of the Bride Part II</td>\n",
       "      <td>1995</td>\n",
       "      <td>False</td>\n",
       "      <td>False</td>\n",
       "      <td>False</td>\n",
       "      <td>False</td>\n",
       "      <td>False</td>\n",
       "      <td>True</td>\n",
       "      <td>False</td>\n",
       "      <td>...</td>\n",
       "      <td>False</td>\n",
       "      <td>False</td>\n",
       "      <td>False</td>\n",
       "      <td>False</td>\n",
       "      <td>False</td>\n",
       "      <td>False</td>\n",
       "      <td>False</td>\n",
       "      <td>False</td>\n",
       "      <td>False</td>\n",
       "      <td>False</td>\n",
       "    </tr>\n",
       "  </tbody>\n",
       "</table>\n",
       "<p>5 rows × 23 columns</p>\n",
       "</div>"
      ],
      "text/plain": [
       "   movieId                         title  year  (no genres listed)  Action  \\\n",
       "0        1                    Toy Story   1995               False   False   \n",
       "1        2                      Jumanji   1995               False   False   \n",
       "2        3             Grumpier Old Men   1995               False   False   \n",
       "3        4            Waiting to Exhale   1995               False   False   \n",
       "4        5  Father of the Bride Part II   1995               False   False   \n",
       "\n",
       "   Adventure  Animation  Children  Comedy  Crime   ...     Film-Noir  Horror  \\\n",
       "0       True       True      True    True  False   ...         False   False   \n",
       "1       True      False      True   False  False   ...         False   False   \n",
       "2      False      False     False    True  False   ...         False   False   \n",
       "3      False      False     False    True  False   ...         False   False   \n",
       "4      False      False     False    True  False   ...         False   False   \n",
       "\n",
       "    IMAX  Musical  Mystery  Romance  Sci-Fi  Thriller    War  Western  \n",
       "0  False    False    False    False   False     False  False    False  \n",
       "1  False    False    False    False   False     False  False    False  \n",
       "2  False    False    False     True   False     False  False    False  \n",
       "3  False    False    False     True   False     False  False    False  \n",
       "4  False    False    False    False   False     False  False    False  \n",
       "\n",
       "[5 rows x 23 columns]"
      ]
     },
     "execution_count": 61,
     "metadata": {},
     "output_type": "execute_result"
    }
   ],
   "source": [
    "movies_genres.head()"
   ]
  },
  {
   "cell_type": "code",
   "execution_count": null,
   "metadata": {},
   "outputs": [],
   "source": []
  },
  {
   "cell_type": "code",
   "execution_count": null,
   "metadata": {},
   "outputs": [],
   "source": []
  },
  {
   "cell_type": "markdown",
   "metadata": {},
   "source": [
    "## Feature engineering\n",
    "A vous de créer les caractéristiques de description des données qui permettront d'améliorer les performances dans les tâches que vous aurez choisi d'aborder dans le projet."
   ]
  },
  {
   "cell_type": "code",
   "execution_count": 71,
   "metadata": {},
   "outputs": [],
   "source": [
    "# Faire un dictionnaire avec tous les acteurs (acteur => indice)\n",
    "# + un dictionnaire inversé (indice => acteur)\n",
    "actors = dict()\n",
    "actors_inv = dict()\n",
    "for lista in acteurs:\n",
    "    for a in lista:\n",
    "        # affecte une valeur à une clé si la clé n'est pas utilisé\n",
    "        res = actors.setdefault(a['name'], len(actors))\n",
    "        if res == len(actors)-1:\n",
    "            actors_inv[len(actors)-1] = a['name']\n",
    "\n",
    "# Exemple de transformation supplémentaire\n",
    "# Dans combien de films de base joue Tom Hanks? (Réponse 57)\n",
    "# Dans combien de comédies...\n",
    "\n",
    "# => On voit qu'il est possible de créer facilement des nouvelles caractéristiques qui\n",
    "# apporteront des informations utiles pour certaines tâches"
   ]
  },
  {
   "cell_type": "code",
   "execution_count": 62,
   "metadata": {},
   "outputs": [
    {
     "data": {
      "text/plain": [
       "'Tom Hanks'"
      ]
     },
     "execution_count": 62,
     "metadata": {},
     "output_type": "execute_result"
    }
   ],
   "source": [
    "actors_inv[0]"
   ]
  },
  {
   "cell_type": "code",
   "execution_count": 63,
   "metadata": {},
   "outputs": [
    {
     "data": {
      "text/plain": [
       "0"
      ]
     },
     "execution_count": 63,
     "metadata": {},
     "output_type": "execute_result"
    }
   ],
   "source": [
    "actors[\"Tom Hanks\"]"
   ]
  },
  {
   "cell_type": "code",
   "execution_count": 73,
   "metadata": {},
   "outputs": [],
   "source": [
    "genres = dict()\n",
    "genres_inv = dict()\n",
    "for g in genres_unique.itertuples():\n",
    "    # affecte une valeur à une clé si la clé n'est pas utilisée\n",
    "    res = genres.setdefault(g.genre, len(genres))\n",
    "    if res == len(genres)-1:\n",
    "        genres_inv[len(genres)-1] = g.genre"
   ]
  },
  {
   "cell_type": "code",
   "execution_count": 74,
   "metadata": {},
   "outputs": [
    {
     "data": {
      "text/plain": [
       "4"
      ]
     },
     "execution_count": 74,
     "metadata": {},
     "output_type": "execute_result"
    }
   ],
   "source": [
    "genres[\"Fantasy\"]"
   ]
  },
  {
   "cell_type": "code",
   "execution_count": 78,
   "metadata": {},
   "outputs": [],
   "source": [
    "df_actors.sort_values(by='id', inplace=True)"
   ]
  },
  {
   "cell_type": "code",
   "execution_count": 79,
   "metadata": {},
   "outputs": [],
   "source": [
    "df_movies.sort_values(by='id', inplace=True)"
   ]
  },
  {
   "cell_type": "code",
   "execution_count": 80,
   "metadata": {},
   "outputs": [
    {
     "data": {
      "text/html": [
       "<div>\n",
       "<style scoped>\n",
       "    .dataframe tbody tr th:only-of-type {\n",
       "        vertical-align: middle;\n",
       "    }\n",
       "\n",
       "    .dataframe tbody tr th {\n",
       "        vertical-align: top;\n",
       "    }\n",
       "\n",
       "    .dataframe thead th {\n",
       "        text-align: right;\n",
       "    }\n",
       "</style>\n",
       "<table border=\"1\" class=\"dataframe\">\n",
       "  <thead>\n",
       "    <tr style=\"text-align: right;\">\n",
       "      <th></th>\n",
       "      <th>cast_id</th>\n",
       "      <th>character</th>\n",
       "      <th>credit_id</th>\n",
       "      <th>gender</th>\n",
       "      <th>id</th>\n",
       "      <th>name</th>\n",
       "      <th>order</th>\n",
       "    </tr>\n",
       "  </thead>\n",
       "  <tbody>\n",
       "    <tr>\n",
       "      <th>267934</th>\n",
       "      <td>11</td>\n",
       "      <td>Himself</td>\n",
       "      <td>56757ade92514179d4002e15</td>\n",
       "      <td>2</td>\n",
       "      <td>1</td>\n",
       "      <td>George Lucas</td>\n",
       "      <td>7</td>\n",
       "    </tr>\n",
       "    <tr>\n",
       "      <th>281812</th>\n",
       "      <td>14</td>\n",
       "      <td>Himself</td>\n",
       "      <td>573de93b92514138d500088c</td>\n",
       "      <td>2</td>\n",
       "      <td>1</td>\n",
       "      <td>George Lucas</td>\n",
       "      <td>9</td>\n",
       "    </tr>\n",
       "    <tr>\n",
       "      <th>192825</th>\n",
       "      <td>9</td>\n",
       "      <td>Himself</td>\n",
       "      <td>52fe4684c3a36847f810367f</td>\n",
       "      <td>2</td>\n",
       "      <td>1</td>\n",
       "      <td>George Lucas</td>\n",
       "      <td>7</td>\n",
       "    </tr>\n",
       "    <tr>\n",
       "      <th>195635</th>\n",
       "      <td>15</td>\n",
       "      <td>Himself</td>\n",
       "      <td>52fe48dac3a36847f817cdcb</td>\n",
       "      <td>2</td>\n",
       "      <td>1</td>\n",
       "      <td>George Lucas</td>\n",
       "      <td>3</td>\n",
       "    </tr>\n",
       "    <tr>\n",
       "      <th>165906</th>\n",
       "      <td>28</td>\n",
       "      <td>Himself</td>\n",
       "      <td>52fe43cac3a36847f806fc33</td>\n",
       "      <td>2</td>\n",
       "      <td>1</td>\n",
       "      <td>George Lucas</td>\n",
       "      <td>3</td>\n",
       "    </tr>\n",
       "  </tbody>\n",
       "</table>\n",
       "</div>"
      ],
      "text/plain": [
       "        cast_id character                 credit_id  gender  id          name  \\\n",
       "267934       11   Himself  56757ade92514179d4002e15       2   1  George Lucas   \n",
       "281812       14   Himself  573de93b92514138d500088c       2   1  George Lucas   \n",
       "192825        9   Himself  52fe4684c3a36847f810367f       2   1  George Lucas   \n",
       "195635       15   Himself  52fe48dac3a36847f817cdcb       2   1  George Lucas   \n",
       "165906       28   Himself  52fe43cac3a36847f806fc33       2   1  George Lucas   \n",
       "\n",
       "        order  \n",
       "267934      7  \n",
       "281812      9  \n",
       "192825      7  \n",
       "195635      3  \n",
       "165906      3  "
      ]
     },
     "execution_count": 80,
     "metadata": {},
     "output_type": "execute_result"
    }
   ],
   "source": [
    "df_actors.head()"
   ]
  },
  {
   "cell_type": "code",
   "execution_count": 81,
   "metadata": {},
   "outputs": [
    {
     "data": {
      "text/html": [
       "<div>\n",
       "<style scoped>\n",
       "    .dataframe tbody tr th:only-of-type {\n",
       "        vertical-align: middle;\n",
       "    }\n",
       "\n",
       "    .dataframe tbody tr th {\n",
       "        vertical-align: top;\n",
       "    }\n",
       "\n",
       "    .dataframe thead th {\n",
       "        text-align: right;\n",
       "    }\n",
       "</style>\n",
       "<table border=\"1\" class=\"dataframe\">\n",
       "  <thead>\n",
       "    <tr style=\"text-align: right;\">\n",
       "      <th></th>\n",
       "      <th>adult</th>\n",
       "      <th>genre_ids</th>\n",
       "      <th>id</th>\n",
       "      <th>original_language</th>\n",
       "      <th>original_title</th>\n",
       "      <th>overview</th>\n",
       "      <th>popularity</th>\n",
       "      <th>release_date</th>\n",
       "      <th>title</th>\n",
       "      <th>video</th>\n",
       "      <th>vote_average</th>\n",
       "      <th>vote_count</th>\n",
       "    </tr>\n",
       "  </thead>\n",
       "  <tbody>\n",
       "    <tr>\n",
       "      <th>4352</th>\n",
       "      <td>False</td>\n",
       "      <td>[18, 80, 35]</td>\n",
       "      <td>2</td>\n",
       "      <td>fi</td>\n",
       "      <td>Ariel</td>\n",
       "      <td>Taisto Kasurinen is a Finnish coal miner whose...</td>\n",
       "      <td>5.154</td>\n",
       "      <td>1988-10-21</td>\n",
       "      <td>Ariel</td>\n",
       "      <td>False</td>\n",
       "      <td>7.0</td>\n",
       "      <td>70</td>\n",
       "    </tr>\n",
       "    <tr>\n",
       "      <th>12909</th>\n",
       "      <td>False</td>\n",
       "      <td>[35, 18]</td>\n",
       "      <td>3</td>\n",
       "      <td>fi</td>\n",
       "      <td>Varjoja paratiisissa</td>\n",
       "      <td>An episode in the life of Nikander, a garbage ...</td>\n",
       "      <td>5.123</td>\n",
       "      <td>1986-10-17</td>\n",
       "      <td>Shadows in Paradise</td>\n",
       "      <td>False</td>\n",
       "      <td>7.4</td>\n",
       "      <td>79</td>\n",
       "    </tr>\n",
       "    <tr>\n",
       "      <th>17</th>\n",
       "      <td>False</td>\n",
       "      <td>[80, 35]</td>\n",
       "      <td>5</td>\n",
       "      <td>en</td>\n",
       "      <td>Four Rooms</td>\n",
       "      <td>It's Ted the Bellhop's first night on the job....</td>\n",
       "      <td>8.995</td>\n",
       "      <td>1995-12-09</td>\n",
       "      <td>Four Rooms</td>\n",
       "      <td>False</td>\n",
       "      <td>6.3</td>\n",
       "      <td>1089</td>\n",
       "    </tr>\n",
       "    <tr>\n",
       "      <th>475</th>\n",
       "      <td>False</td>\n",
       "      <td>[28, 80, 53]</td>\n",
       "      <td>6</td>\n",
       "      <td>en</td>\n",
       "      <td>Judgment Night</td>\n",
       "      <td>While racing to a boxing match, Frank, Mike, J...</td>\n",
       "      <td>8.677</td>\n",
       "      <td>1993-10-15</td>\n",
       "      <td>Judgment Night</td>\n",
       "      <td>False</td>\n",
       "      <td>6.5</td>\n",
       "      <td>111</td>\n",
       "    </tr>\n",
       "    <tr>\n",
       "      <th>257</th>\n",
       "      <td>False</td>\n",
       "      <td>[12, 28, 878]</td>\n",
       "      <td>11</td>\n",
       "      <td>en</td>\n",
       "      <td>Star Wars</td>\n",
       "      <td>Princess Leia is captured and held hostage by ...</td>\n",
       "      <td>35.555</td>\n",
       "      <td>1977-05-25</td>\n",
       "      <td>Star Wars</td>\n",
       "      <td>False</td>\n",
       "      <td>8.2</td>\n",
       "      <td>10843</td>\n",
       "    </tr>\n",
       "  </tbody>\n",
       "</table>\n",
       "</div>"
      ],
      "text/plain": [
       "       adult      genre_ids  id original_language        original_title  \\\n",
       "4352   False   [18, 80, 35]   2                fi                 Ariel   \n",
       "12909  False       [35, 18]   3                fi  Varjoja paratiisissa   \n",
       "17     False       [80, 35]   5                en            Four Rooms   \n",
       "475    False   [28, 80, 53]   6                en        Judgment Night   \n",
       "257    False  [12, 28, 878]  11                en             Star Wars   \n",
       "\n",
       "                                                overview  popularity  \\\n",
       "4352   Taisto Kasurinen is a Finnish coal miner whose...       5.154   \n",
       "12909  An episode in the life of Nikander, a garbage ...       5.123   \n",
       "17     It's Ted the Bellhop's first night on the job....       8.995   \n",
       "475    While racing to a boxing match, Frank, Mike, J...       8.677   \n",
       "257    Princess Leia is captured and held hostage by ...      35.555   \n",
       "\n",
       "      release_date                title  video  vote_average  vote_count  \n",
       "4352    1988-10-21                Ariel  False           7.0          70  \n",
       "12909   1986-10-17  Shadows in Paradise  False           7.4          79  \n",
       "17      1995-12-09           Four Rooms  False           6.3        1089  \n",
       "475     1993-10-15       Judgment Night  False           6.5         111  \n",
       "257     1977-05-25            Star Wars  False           8.2       10843  "
      ]
     },
     "execution_count": 81,
     "metadata": {},
     "output_type": "execute_result"
    }
   ],
   "source": [
    "df_movies.head()"
   ]
  },
  {
   "cell_type": "markdown",
   "metadata": {},
   "source": [
    "## problème rencontré en essayant de faire des dictionnaires Films: {actors} et Actors:{categories} :\n",
    "## Je ne comprends pas a quel genre correspond chaque genre_ids et comment trouver les films dans lesquels chaque acteur a jouer"
   ]
  },
  {
   "cell_type": "code",
   "execution_count": null,
   "metadata": {},
   "outputs": [],
   "source": []
  }
 ],
 "metadata": {
  "kernelspec": {
   "display_name": "Python 3",
   "language": "python",
   "name": "python3"
  },
  "language_info": {
   "codemirror_mode": {
    "name": "ipython",
    "version": 3
   },
   "file_extension": ".py",
   "mimetype": "text/x-python",
   "name": "python",
   "nbconvert_exporter": "python",
   "pygments_lexer": "ipython3",
   "version": "3.7.1"
  }
 },
 "nbformat": 4,
 "nbformat_minor": 2
}
